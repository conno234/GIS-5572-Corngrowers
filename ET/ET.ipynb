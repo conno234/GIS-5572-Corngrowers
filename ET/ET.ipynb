{
 "cells": [
  {
   "cell_type": "code",
   "execution_count": 1,
   "metadata": {},
   "outputs": [],
   "source": [
    "#First we upload our packages\n",
    "import arcpy\n",
    "from arcpy import env  \n",
    "from arcpy.sa import *\n",
    "import pandas as pd\n",
    "import geopandas as gpd\n",
    "import numpy as np\n",
    "import random\n",
    "import psycopg2\n",
    "from shapely.geometry import Point, Polygon"
   ]
  },
  {
   "cell_type": "code",
   "execution_count": 3,
   "metadata": {},
   "outputs": [],
   "source": [
    "#Next is to read in the CSV of our September 2023 data as dataframe\n",
    "csv_file_path = r\"C:\\Users\\conno\\OneDrive\\Documents\\ArcGIS\\Projects\\GIS 5572 Final\\temp_data.csv\"\n",
    "temp_data = pd.read_csv(csv_file_path)"
   ]
  },
  {
   "cell_type": "code",
   "execution_count": 4,
   "metadata": {},
   "outputs": [],
   "source": [
    "#Now let's remove any cells with NA values\n",
    "temp_data.dropna(inplace=True)"
   ]
  },
  {
   "cell_type": "code",
   "execution_count": 5,
   "metadata": {},
   "outputs": [],
   "source": [
    "# Then we must convert numeric columns to appropriate data types\n",
    "numeric_cols = ['high_F', 'low_F', 'precip', 'snow_inch', 'snowd_inch']\n",
    "temp_data[numeric_cols] = temp_data[numeric_cols].apply(pd.to_numeric, errors='coerce')"
   ]
  },
  {
   "cell_type": "code",
   "execution_count": 6,
   "metadata": {},
   "outputs": [],
   "source": [
    "#This data also needs coordinate info for each point\n",
    "#We will use a Mesonet URL to gather reporting station location\n",
    "url = \"https://mesonet.agron.iastate.edu/sites/networks.php?network=MN_COOP&format=csv&nohtml=on\"\n",
    "\n",
    "# Read the CSV data from the URL into a data frame\n",
    "loc_df = pd.read_csv(url)"
   ]
  },
  {
   "cell_type": "code",
   "execution_count": 7,
   "metadata": {},
   "outputs": [
    {
     "name": "stdout",
     "output_type": "stream",
     "text": [
      "      nwsli        date      time  ...  snowd_inch      lat      lon\n",
      "0     NHPM5  2023-09-01  11:00 PM  ...         0.0  45.0100 -93.3792\n",
      "1     LMBM5  2023-09-01   7:00 AM  ...         0.0  44.2400 -95.3200\n",
      "2     LCHM5  2023-09-01   8:00 AM  ...         0.0  45.1279 -94.5348\n",
      "3     PKGM5  2023-09-01   8:00 AM  ...         0.0  47.2500 -93.5900\n",
      "4     CLDM5  2023-09-01   6:00 AM  ...         0.0  43.6309 -91.5027\n",
      "...     ...         ...       ...  ...         ...      ...      ...\n",
      "3480  KABM5  2023-09-30   7:00 AM  ...         0.0  46.4456 -93.0283\n",
      "3481  CLDM5  2023-09-30   6:00 AM  ...         0.0  43.6309 -91.5027\n",
      "3482  NHPM5  2023-09-30  11:00 PM  ...         0.0  45.0100 -93.3792\n",
      "3483  PKGM5  2023-09-30   8:00 AM  ...         0.0  47.2500 -93.5900\n",
      "3484  LMBM5  2023-09-30   7:00 AM  ...         0.0  44.2400 -95.3200\n",
      "\n",
      "[3485 rows x 10 columns]\n"
     ]
    }
   ],
   "source": [
    "# Merge the \"lat\" and \"lon\" columns from df based on the matching \"nwsli\" and \"stid\" columns\n",
    "temp_data = pd.merge(temp_data, loc_df[['stid', 'lat', 'lon']], how='left', left_on='nwsli', right_on='stid')\n",
    "\n",
    "# Drop the redundant \"stid\" column\n",
    "temp_data.drop(columns=['stid'], inplace=True)\n",
    "\n",
    "# Display the updated precip_data data frame\n",
    "print(temp_data)"
   ]
  },
  {
   "cell_type": "code",
   "execution_count": 8,
   "metadata": {},
   "outputs": [
    {
     "name": "stdout",
     "output_type": "stream",
     "text": [
      "Data falls within Minnesota boundary.\n"
     ]
    }
   ],
   "source": [
    "# Define Minnesota boundary box\n",
    "minnesota_boundary = Polygon([( -97.5, 43.0), (-89.0, 43.0), (-89.0, 49.5), (-97.5, 49.5)])\n",
    "\n",
    "# Check if the data falls within the Minnesota boundary\n",
    "temp_data['Coordinates'] = list(zip(temp_data.lon, temp_data.lat))\n",
    "temp_data['Coordinates'] = temp_data['Coordinates'].apply(Point)\n",
    "gdf = gpd.GeoDataFrame(temp_data, geometry='Coordinates')\n",
    "\n",
    "within_minnesota = gdf[gdf.geometry.within(minnesota_boundary)]\n",
    "if len(within_minnesota) == 0:\n",
    "    print(\"No data falls within Minnesota boundary.\")\n",
    "else:\n",
    "    print(\"Data falls within Minnesota boundary.\")"
   ]
  },
  {
   "cell_type": "code",
   "execution_count": 9,
   "metadata": {},
   "outputs": [
    {
     "name": "stdout",
     "output_type": "stream",
     "text": [
      "Type of 'date' column after conversion: datetime64[ns]\n"
     ]
    }
   ],
   "source": [
    "# Convert the \"Date\" column to datetime type\n",
    "temp_data['date'] = pd.to_datetime(temp_data['date'])\n",
    "\n",
    "# Check the type of the \"Date\" column after conversion\n",
    "date_column_type = temp_data['date'].dtype\n",
    "\n",
    "print(\"Type of 'date' column after conversion:\", date_column_type)"
   ]
  },
  {
   "cell_type": "code",
   "execution_count": 10,
   "metadata": {},
   "outputs": [
    {
     "name": "stdout",
     "output_type": "stream",
     "text": [
      "Enter a date (YYYY-MM-DD format): 2023-09-09\n",
      "      nwsli       date     time  ...      lat      lon               Coordinates\n",
      "935   RSMM5 2023-09-09  8:00 AM  ...  44.7178 -93.0975  POINT (-93.0975 44.7178)\n",
      "936   MIAM5 2023-09-09  6:00 PM  ...  45.1219 -95.9269  POINT (-95.9269 45.1219)\n",
      "937   GNFM5 2023-09-09  8:00 AM  ...  48.1667 -90.8875  POINT (-90.8875 48.1667)\n",
      "938   MABM5 2023-09-09  7:00 AM  ...  43.5241 -91.7616  POINT (-91.7616 43.5241)\n",
      "939   HSTM5 2023-09-09  5:00 AM  ...  44.7597 -92.8689  POINT (-92.8689 44.7597)\n",
      "...     ...        ...      ...  ...      ...      ...                       ...\n",
      "1045  GLDM5 2023-09-09  9:00 AM  ...  44.5565 -94.2207  POINT (-94.2207 44.5565)\n",
      "1046  WASM5 2023-09-09  8:00 AM  ...  44.0707 -93.5264  POINT (-93.5264 44.0707)\n",
      "1047  TOWM5 2023-09-09  7:00 AM  ...  47.7553 -92.2858  POINT (-92.2858 47.7553)\n",
      "1048  CSLM5 2023-09-09  8:00 AM  ...  47.3847 -94.6147  POINT (-94.6147 47.3847)\n",
      "1049  AGAM5 2023-09-09  8:00 AM  ...  48.3000 -95.9833     POINT (-95.9833 48.3)\n",
      "\n",
      "[115 rows x 11 columns]\n"
     ]
    }
   ],
   "source": [
    "#Now we need to choose the date which we will interpolate for\n",
    "input_date = input(\"Enter a date (YYYY-MM-DD format): \")\n",
    "\n",
    "# Convert input string to datetime object\n",
    "input_date = pd.to_datetime(input_date)\n",
    "\n",
    "# Filter DataFrame based on the input date\n",
    "temp_data = temp_data[temp_data['date'] == input_date]\n",
    "\n",
    "# Display the filtered DataFrame\n",
    "print(temp_data)"
   ]
  },
  {
   "cell_type": "code",
   "execution_count": 11,
   "metadata": {},
   "outputs": [],
   "source": [
    "# This cell will calculate average temperature for each row\n",
    "temp_data['avg_temp'] = (temp_data['high_F'] + temp_data['low_F']) / 2"
   ]
  },
  {
   "cell_type": "code",
   "execution_count": 12,
   "metadata": {},
   "outputs": [],
   "source": [
    "# Then these next cells will calculate evapotranspiration\n",
    "# First it defines the constant for the Hargreaves method\n",
    "constant = 0.0023\n",
    "\n",
    "# Convert 'date' column to datetime object\n",
    "temp_data['date'] = pd.to_datetime(temp_data['date'])"
   ]
  },
  {
   "cell_type": "code",
   "execution_count": 13,
   "metadata": {},
   "outputs": [
    {
     "name": "stdout",
     "output_type": "stream",
     "text": [
      "      nwsli       date     time  ...               Coordinates  avg_temp        ET\n",
      "935   RSMM5 2023-09-09  8:00 AM  ...  POINT (-93.0975 44.7178)      63.0  1.024494\n",
      "936   MIAM5 2023-09-09  6:00 PM  ...  POINT (-95.9269 45.1219)      70.5  1.100771\n",
      "937   GNFM5 2023-09-09  8:00 AM  ...  POINT (-90.8875 48.1667)      57.5  0.718715\n",
      "938   MABM5 2023-09-09  7:00 AM  ...  POINT (-91.7616 43.5241)      56.5  0.988060\n",
      "939   HSTM5 2023-09-09  5:00 AM  ...  POINT (-92.8689 44.7597)      64.0  0.927676\n",
      "...     ...        ...      ...  ...                       ...       ...       ...\n",
      "1045  GLDM5 2023-09-09  9:00 AM  ...  POINT (-94.2207 44.5565)      67.5  0.947001\n",
      "1046  WASM5 2023-09-09  8:00 AM  ...  POINT (-93.5264 44.0707)      64.0  1.002005\n",
      "1047  TOWM5 2023-09-09  7:00 AM  ...  POINT (-92.2858 47.7553)      59.5  0.858185\n",
      "1048  CSLM5 2023-09-09  8:00 AM  ...  POINT (-94.6147 47.3847)      64.0  0.846848\n",
      "1049  AGAM5 2023-09-09  8:00 AM  ...     POINT (-95.9833 48.3)      61.5  0.800179\n",
      "\n",
      "[115 rows x 13 columns]\n"
     ]
    }
   ],
   "source": [
    "# Then this cell calculates ET using the Hargreaves method for each row\n",
    "ET0_values = []\n",
    "for index, row in temp_data.iterrows():\n",
    "    avg_temperature = row['avg_temp']\n",
    "    temperature_range = row['high_F'] - row['low_F']\n",
    "    \n",
    "    # Calculate the day of the year\n",
    "    day_of_year = row['date'].dayofyear\n",
    "    \n",
    "    # Calculate ET0 using the Hargreaves method\n",
    "    ET0 = constant * (avg_temperature + 17.8) * (temperature_range ** 0.5) * (1.0 + 0.033 * np.sin(np.deg2rad(360 * (day_of_year - 81) / 365)))\n",
    "    \n",
    "    ET0_values.append(ET0)\n",
    "\n",
    "# Add the calculated ET0 values as a new column to the DataFrame\n",
    "temp_data['ET'] = ET0_values\n",
    "\n",
    "# Display the updated DataFrame\n",
    "print(temp_data)\n"
   ]
  },
  {
   "cell_type": "code",
   "execution_count": 16,
   "metadata": {},
   "outputs": [
    {
     "name": "stdout",
     "output_type": "stream",
     "text": [
      "Feature class 'Points' created successfully.\n"
     ]
    }
   ],
   "source": [
    "# Then we need to create a feature class for our points\n",
    "output_fc = 'Points'\n",
    "\n",
    "# Create a new feature class\n",
    "arcpy.management.CreateFeatureclass(\n",
    "    arcpy.env.workspace,\n",
    "    output_fc,\n",
    "    'POINT',\n",
    "    spatial_reference=arcpy.SpatialReference(4326)  # WGS84 Geographic Coordinate System\n",
    ")\n",
    "\n",
    "# Check the data type of the 'ET' column in the DataFrame\n",
    "et_dtype = temp_data['ET'].dtype\n",
    "\n",
    "# Add field to store ET data, ensuring correct data type\n",
    "if et_dtype == 'float64':\n",
    "    arcpy.management.AddField(output_fc, 'ET', 'FLOAT')\n",
    "else:\n",
    "    arcpy.management.AddField(output_fc, 'ET', 'DOUBLE')\n",
    "\n",
    "# Add 'date' and 'nwsli' fields\n",
    "arcpy.management.AddField(output_fc, 'date', 'DATE')\n",
    "arcpy.management.AddField(output_fc, 'nwsli', 'TEXT')\n",
    "\n",
    "\n",
    "\n",
    "# Open an insert cursor\n",
    "with arcpy.da.InsertCursor(output_fc, ['SHAPE@XY', 'ET', 'date', 'nwsli']) as cursor:\n",
    "    # Iterate over each row in the DataFrame\n",
    "    for index, row in temp_data.iterrows():\n",
    "        # Extract lat, lon, ET, date, and nwsli values\n",
    "        lat = row['lat']\n",
    "        lon = row['lon']\n",
    "        date = row['date']\n",
    "        ET = row['ET']\n",
    "        nwsli = row['nwsli']\n",
    "        \n",
    "        # Create a point geometry\n",
    "        point = arcpy.Point(lon, lat)\n",
    "        point_geometry = arcpy.PointGeometry(point)\n",
    "        \n",
    "        # Insert the point feature with the ET, date, and nwsli values\n",
    "        cursor.insertRow([point_geometry, ET, date, nwsli])\n",
    "\n",
    "print(f\"Feature class '{output_fc}' created successfully.\")\n"
   ]
  },
  {
   "cell_type": "code",
   "execution_count": 70,
   "metadata": {},
   "outputs": [
    {
     "name": "stdout",
     "output_type": "stream",
     "text": [
      "Randomly selected 32 features and created a new feature layer: Random_Selected_Points\n",
      "Saved the selected features to a new feature class: Random_Selected_Points\n"
     ]
    }
   ],
   "source": [
    "# In order to test our interpolations later, we will need to create a subset of this data and remove it from the feature layer\n",
    "input_feature_layer = \"Points\"\n",
    "\n",
    "# We will save it as a separate feature layer\n",
    "output_feature_layer = \"Random_Selected_Points\"\n",
    "output_feature_class = \"Random_Selected_Points\"\n",
    "\n",
    "# We first need to get the total count of features in the input feature layer\n",
    "total_features_count = int(arcpy.GetCount_management(input_feature_layer).getOutput(0))\n",
    "\n",
    "# The I will generate a list of 32 random indices\n",
    "random_indices = random.sample(range(1, total_features_count + 1), 32)\n",
    "\n",
    "# I will use a SQL expression to select the randomly chosen features\n",
    "sql_expression = \"OBJECTID IN ({})\".format(','.join(map(str, random_indices)))\n",
    "\n",
    "# Then I will create a new feature layer with the randomly selected features\n",
    "arcpy.MakeFeatureLayer_management(input_feature_layer, output_feature_layer, sql_expression)\n",
    "\n",
    "print(\"Randomly selected 32 features and created a new feature layer:\", output_feature_layer)\n",
    "\n",
    "# The I will save the selected features to a new feature class\n",
    "arcpy.CopyFeatures_management(output_feature_layer, output_feature_class)\n",
    "print(\"Saved the selected features to a new feature class:\", output_feature_class)"
   ]
  },
  {
   "cell_type": "code",
   "execution_count": 17,
   "metadata": {},
   "outputs": [],
   "source": [
    "#This performs the IDW interpolation\n",
    "outIDW = Idw(\"Points.shp\", \"ET\")\n",
    "output_path = r\"C:\\Users\\conno\\OneDrive\\Documents\\ArcGIS\\Projects\\GIS 5572 Final\\IDW_ETPoints.tif\"\n",
    "outIDW.save(output_path)"
   ]
  },
  {
   "cell_type": "code",
   "execution_count": 18,
   "metadata": {},
   "outputs": [],
   "source": [
    "#This performs the ordinary kriging interpolation\n",
    "outKriging = Kriging(\"Points.shp\", \"ET\", KrigingModelOrdinary(\"SPHERICAL\", 0.021507), 0.0215068000000001)\n",
    "output_path = r\"C:\\Users\\conno\\OneDrive\\Documents\\ArcGIS\\Projects\\GIS 5572 Final\\Kriging_ETPoints.tif\"\n",
    "outKriging.save(output_path)"
   ]
  },
  {
   "cell_type": "code",
   "execution_count": 19,
   "metadata": {},
   "outputs": [],
   "source": [
    "#This performs the universal kriging interpolation\n",
    "outKriging = Kriging(\"Points.shp\", \"ET\", KrigingModelUniversal(\"SPHERICAL\", 0.021507), 0.0215068000000001)\n",
    "output_path = r\"C:\\Users\\conno\\OneDrive\\Documents\\ArcGIS\\Projects\\GIS 5572 Final\\Univ_Kriging_ETPoints.tif\"\n",
    "outKriging.save(output_path)"
   ]
  },
  {
   "cell_type": "code",
   "execution_count": 80,
   "metadata": {},
   "outputs": [
    {
     "name": "stdout",
     "output_type": "stream",
     "text": [
      "Sampling complete\n"
     ]
    }
   ],
   "source": [
    "#To test the model, we need to sample the data using the randomly select points\n",
    "arcpy.sa.Sample(\n",
    "    in_rasters=\"Idw_ETPoints.tif\",\n",
    "    in_location_data=\"Random_Selected_Points\",\n",
    "    out_table=r\"Sample_Idw_ET\",\n",
    "    resampling_type=\"NEAREST\",\n",
    "    unique_id_field=\"OBJECTID\",\n",
    "    process_as_multidimensional=\"CURRENT_SLICE\",\n",
    "    acquisition_definition=None,\n",
    "    statistics_type=\"\",\n",
    "    percentile_value=None,\n",
    "    buffer_distance=None,\n",
    "    layout=\"ROW_WISE\",\n",
    "    generate_feature_class=\"TABLE\"\n",
    ")\n",
    "print(\"Sampling complete\")"
   ]
  },
  {
   "cell_type": "code",
   "execution_count": 72,
   "metadata": {},
   "outputs": [
    {
     "name": "stdout",
     "output_type": "stream",
     "text": [
      "Sampling complete\n"
     ]
    }
   ],
   "source": [
    "arcpy.sa.Sample(\n",
    "    in_rasters=\"Kriging_ETPoints.tif\",\n",
    "    in_location_data=\"Random_Selected_Points\",\n",
    "    out_table=r\"Sample_Kriging_ET\",\n",
    "    resampling_type=\"NEAREST\",\n",
    "    unique_id_field=\"OBJECTID\",\n",
    "    process_as_multidimensional=\"CURRENT_SLICE\",\n",
    "    acquisition_definition=None,\n",
    "    statistics_type=\"\",\n",
    "    percentile_value=None,\n",
    "    buffer_distance=None,\n",
    "    layout=\"ROW_WISE\",\n",
    "    generate_feature_class=\"TABLE\"\n",
    ")\n",
    "print(\"Sampling complete\")"
   ]
  },
  {
   "cell_type": "code",
   "execution_count": 74,
   "metadata": {},
   "outputs": [
    {
     "name": "stdout",
     "output_type": "stream",
     "text": [
      "Sampling complete\n"
     ]
    }
   ],
   "source": [
    "arcpy.sa.Sample(\n",
    "    in_rasters=\"Univ_Kriging_ETPoints.tif\",\n",
    "    in_location_data=\"Random_Selected_Points\",\n",
    "    out_table=r\"Univ_Sample_Kriging_ET\",\n",
    "    resampling_type=\"NEAREST\",\n",
    "    unique_id_field=\"OBJECTID\",\n",
    "    process_as_multidimensional=\"CURRENT_SLICE\",\n",
    "    acquisition_definition=None,\n",
    "    statistics_type=\"\",\n",
    "    percentile_value=None,\n",
    "    buffer_distance=None,\n",
    "    layout=\"ROW_WISE\",\n",
    "    generate_feature_class=\"TABLE\"\n",
    ")\n",
    "print(\"Sampling complete\")"
   ]
  },
  {
   "cell_type": "code",
   "execution_count": 75,
   "metadata": {},
   "outputs": [
    {
     "name": "stdout",
     "output_type": "stream",
     "text": [
      "    OBJECTID  nwsli        ET\n",
      "0          1  MIAM5  1.100771\n",
      "1          2  HSTM5  0.927676\n",
      "2          3  WAAM5  0.977935\n",
      "3          4  WHTM5  1.062532\n",
      "4          5  MRAM5  0.953007\n",
      "5          6  SPTM5  1.013507\n",
      "6          7  KIMM5  0.965256\n",
      "7          8  PTNM5  0.996317\n",
      "8          9  MLNM5  1.100771\n",
      "9         10  ELKM5  0.784732\n",
      "10        11  WRIM5  0.847083\n",
      "11        12  TCYM5  1.033615\n",
      "12        13  ITAM5  0.977935\n",
      "13        14  FORM5  1.022095\n",
      "14        15  ADVM5  1.018807\n",
      "15        16  ASNM5  1.024494\n",
      "16        17  MMLM5  1.209295\n",
      "17        18  BAUM5  0.941848\n",
      "18        19  DTRM5  0.944762\n",
      "19        20  TOHM5  0.656554\n",
      "20        21  PKGM5  0.830632\n",
      "21        22  CLDM5  0.894719\n",
      "22        23  ARTM5  0.883674\n",
      "23        24  SBNM5  0.924797\n",
      "24        25  INDM5  0.691201\n",
      "25        26  NYMM5  1.037173\n",
      "26        27  MLCM5  0.965256\n",
      "27        28  EMBM5  0.882313\n",
      "28        29  WNNM5  0.989164\n",
      "29        30  WLDM5  1.005712\n",
      "30        31  GLDM5  0.947001\n",
      "31        32  WASM5  1.002005\n"
     ]
    }
   ],
   "source": [
    "# Next we will create a dataframe based on our randomly selected features from earlier\n",
    "input_feature_class = \"Random_Selected_Points\"\n",
    "\n",
    "# We will first convert feature classes to a NumPy array\n",
    "fields = [\"OID@\",\"nwsli\", \"ET\"]\n",
    "array = arcpy.da.FeatureClassToNumPyArray(input_feature_class, fields)\n",
    "\n",
    "# Then convert the NumPy array to a dataframe\n",
    "df_ET = pd.DataFrame(array)\n",
    "\n",
    "# Rename the OID@ field to ObjectID\n",
    "df_ET.rename(columns={\"OID@\": \"OBJECTID\"}, inplace=True)\n",
    "\n",
    "# Then we will print the DataFrame to check it\n",
    "print(df_ET)\n"
   ]
  },
  {
   "cell_type": "code",
   "execution_count": 76,
   "metadata": {},
   "outputs": [
    {
     "name": "stdout",
     "output_type": "stream",
     "text": [
      "DataFrame 1 (Sample_Idw_ET):\n",
      "    OBJECTID  Random_Selected_Points         X         Y  IDW_ETPoints_Band_1\n",
      "0          1                       1 -95.92690  45.12190             1.100795\n",
      "1          2                       2 -92.86890  44.75970             0.927730\n",
      "2          3                       3 -96.77590  48.19530             0.977890\n",
      "3          4                       4 -96.48330  45.80000             1.062531\n",
      "4          5                       5 -93.30720  45.92000             0.952905\n",
      "5          6                       6 -93.99000  44.31000             1.013430\n",
      "6          7                       7 -94.30560  45.35330             0.964862\n",
      "7          8                       8 -92.07470  43.67250             0.996261\n",
      "8          9                       9 -95.93000  45.12000             1.100795\n",
      "9         10                      10 -93.58420  45.30490             0.784877\n",
      "10        11                      11 -93.06670  46.71670             0.847116\n",
      "11        12                      12 -95.63000  44.24000             1.033781\n",
      "12        13                      13 -95.20000  47.21670             0.977678\n",
      "13        14                      14 -92.91250  45.33970             1.021305\n",
      "14        15                      15 -93.29250  45.25361             1.016611\n",
      "15        16                      16 -92.99000  43.62000             1.024301\n",
      "16        17                      17 -95.80000  44.47060             1.209290\n",
      "17        18                      18 -94.59000  48.71000             0.941735\n",
      "18        19                      19 -95.85000  46.83330             0.944765\n",
      "19        20                      20 -91.67000  47.03000             0.656613\n",
      "20        21                      21 -93.59000  47.25000             0.830372\n",
      "21        22                      22 -91.50270  43.63090             0.894717\n",
      "22        23                      23 -96.13330  45.36670             0.885625\n",
      "23        24                      24 -96.65610  46.77690             0.924827\n",
      "24        25                      25 -93.90000  48.61670             0.691326\n",
      "25        26                      26 -95.37990  46.50920             1.036883\n",
      "26        27                      27 -93.66170  45.75330             0.964499\n",
      "27        28                      28 -92.22593  47.64305             0.881840\n",
      "28        29                      29 -94.18730  43.76920             0.989201\n",
      "29        30                      30 -92.74890  45.52310             1.005700\n",
      "30        31                      31 -94.22070  44.55650             0.947491\n",
      "31        32                      32 -93.52640  44.07070             1.001959\n",
      "\n",
      "DataFrame 2 (Sample_Kriging_ET):\n",
      "    OBJECTID  Random_Selected_Points  ...         Y  Kriging_ETPoints_Band_1\n",
      "0          1                       1  ...  45.12190                 1.117587\n",
      "1          2                       2  ...  44.75970                 0.932135\n",
      "2          3                       3  ...  48.19530                 0.940173\n",
      "3          4                       4  ...  45.80000                 1.041204\n",
      "4          5                       5  ...  45.92000                 0.925839\n",
      "5          6                       6  ...  44.31000                 1.003034\n",
      "6          7                       7  ...  45.35330                 0.927090\n",
      "7          8                       8  ...  43.67250                 0.973996\n",
      "8          9                       9  ...  45.12000                 1.117587\n",
      "9         10                      10  ...  45.30490                 0.850771\n",
      "10        11                      11  ...  46.71670                 0.850280\n",
      "11        12                      12  ...  44.24000                 1.081290\n",
      "12        13                      13  ...  47.21670                 0.850336\n",
      "13        14                      14  ...  45.33970                 0.963395\n",
      "14        15                      15  ...  45.25361                 0.905714\n",
      "15        16                      16  ...  43.62000                 1.001260\n",
      "16        17                      17  ...  44.47060                 1.145886\n",
      "17        18                      18  ...  48.71000                 0.855407\n",
      "18        19                      19  ...  46.83330                 0.945207\n",
      "19        20                      20  ...  47.03000                 0.744254\n",
      "20        21                      21  ...  47.25000                 0.822615\n",
      "21        22                      22  ...  43.63090                 0.877146\n",
      "22        23                      23  ...  45.36670                 1.055001\n",
      "23        24                      24  ...  46.77690                 0.939625\n",
      "24        25                      25  ...  48.61670                 0.785312\n",
      "25        26                      26  ...  46.50920                 0.996068\n",
      "26        27                      27  ...  45.75330                 0.917534\n",
      "27        28                      28  ...  47.64305                 0.840053\n",
      "28        29                      29  ...  43.76920                 1.000147\n",
      "29        30                      30  ...  45.52310                 0.961556\n",
      "30        31                      31  ...  44.55650                 1.001824\n",
      "31        32                      32  ...  44.07070                 0.995129\n",
      "\n",
      "[32 rows x 5 columns]\n",
      "\n",
      "DataFrame 3 (Univ_Sample_Kriging_ET):\n",
      "    OBJECTID  Random_Selected_Points  ...         Y  Univ_Kriging_ETPoints_Band_1\n",
      "0          1                       1  ...  45.12190                      1.117587\n",
      "1          2                       2  ...  44.75970                      0.932135\n",
      "2          3                       3  ...  48.19530                      0.940173\n",
      "3          4                       4  ...  45.80000                      1.041204\n",
      "4          5                       5  ...  45.92000                      0.925839\n",
      "5          6                       6  ...  44.31000                      1.003034\n",
      "6          7                       7  ...  45.35330                      0.927090\n",
      "7          8                       8  ...  43.67250                      0.973996\n",
      "8          9                       9  ...  45.12000                      1.117587\n",
      "9         10                      10  ...  45.30490                      0.850771\n",
      "10        11                      11  ...  46.71670                      0.850280\n",
      "11        12                      12  ...  44.24000                      1.081290\n",
      "12        13                      13  ...  47.21670                      0.850336\n",
      "13        14                      14  ...  45.33970                      0.963395\n",
      "14        15                      15  ...  45.25361                      0.905714\n",
      "15        16                      16  ...  43.62000                      1.001260\n",
      "16        17                      17  ...  44.47060                      1.145886\n",
      "17        18                      18  ...  48.71000                      0.855407\n",
      "18        19                      19  ...  46.83330                      0.945207\n",
      "19        20                      20  ...  47.03000                      0.744254\n",
      "20        21                      21  ...  47.25000                      0.822615\n",
      "21        22                      22  ...  43.63090                      0.877146\n",
      "22        23                      23  ...  45.36670                      1.055001\n",
      "23        24                      24  ...  46.77690                      0.939625\n",
      "24        25                      25  ...  48.61670                      0.785312\n",
      "25        26                      26  ...  46.50920                      0.996068\n",
      "26        27                      27  ...  45.75330                      0.917534\n",
      "27        28                      28  ...  47.64305                      0.840053\n",
      "28        29                      29  ...  43.76920                      1.000147\n",
      "29        30                      30  ...  45.52310                      0.961556\n",
      "30        31                      31  ...  44.55650                      1.001824\n",
      "31        32                      32  ...  44.07070                      0.995129\n",
      "\n",
      "[32 rows x 5 columns]\n",
      "\n"
     ]
    }
   ],
   "source": [
    "# Now I will add the sampled interpolated data to the same dataframe\n",
    "# That will be done by first making individual dataframes for each method\n",
    "table_paths = [\n",
    "    \"Sample_Idw_ET\",\n",
    "    \"Sample_Kriging_ET\",\n",
    "    \"Univ_Sample_Kriging_ET\"\n",
    "]\n",
    "\n",
    "dfs = []\n",
    "for table_path in table_paths:\n",
    "    array = arcpy.da.TableToNumPyArray(table_path, \"*\")\n",
    "    df = pd.DataFrame(array)\n",
    "    dfs.append(df)\n",
    "\n",
    "# To check, let's print the dataframes\n",
    "for i, df in enumerate(dfs):\n",
    "    print(f\"DataFrame {i+1} ({table_paths[i]}):\\n{df}\\n\")\n"
   ]
  },
  {
   "cell_type": "code",
   "execution_count": 77,
   "metadata": {},
   "outputs": [
    {
     "name": "stdout",
     "output_type": "stream",
     "text": [
      "    OBJECTID  nwsli        ET  ...         X         Y  Univ_Kriging_ETPoints_Band_1\n",
      "0          1  MIAM5  1.100771  ... -95.92690  45.12190                      1.117587\n",
      "1          2  HSTM5  0.927676  ... -92.86890  44.75970                      0.932135\n",
      "2          3  WAAM5  0.977935  ... -96.77590  48.19530                      0.940173\n",
      "3          4  WHTM5  1.062532  ... -96.48330  45.80000                      1.041204\n",
      "4          5  MRAM5  0.953007  ... -93.30720  45.92000                      0.925839\n",
      "5          6  SPTM5  1.013507  ... -93.99000  44.31000                      1.003034\n",
      "6          7  KIMM5  0.965256  ... -94.30560  45.35330                      0.927090\n",
      "7          8  PTNM5  0.996317  ... -92.07470  43.67250                      0.973996\n",
      "8          9  MLNM5  1.100771  ... -95.93000  45.12000                      1.117587\n",
      "9         10  ELKM5  0.784732  ... -93.58420  45.30490                      0.850771\n",
      "10        11  WRIM5  0.847083  ... -93.06670  46.71670                      0.850280\n",
      "11        12  TCYM5  1.033615  ... -95.63000  44.24000                      1.081290\n",
      "12        13  ITAM5  0.977935  ... -95.20000  47.21670                      0.850336\n",
      "13        14  FORM5  1.022095  ... -92.91250  45.33970                      0.963395\n",
      "14        15  ADVM5  1.018807  ... -93.29250  45.25361                      0.905714\n",
      "15        16  ASNM5  1.024494  ... -92.99000  43.62000                      1.001260\n",
      "16        17  MMLM5  1.209295  ... -95.80000  44.47060                      1.145886\n",
      "17        18  BAUM5  0.941848  ... -94.59000  48.71000                      0.855407\n",
      "18        19  DTRM5  0.944762  ... -95.85000  46.83330                      0.945207\n",
      "19        20  TOHM5  0.656554  ... -91.67000  47.03000                      0.744254\n",
      "20        21  PKGM5  0.830632  ... -93.59000  47.25000                      0.822615\n",
      "21        22  CLDM5  0.894719  ... -91.50270  43.63090                      0.877146\n",
      "22        23  ARTM5  0.883674  ... -96.13330  45.36670                      1.055001\n",
      "23        24  SBNM5  0.924797  ... -96.65610  46.77690                      0.939625\n",
      "24        25  INDM5  0.691201  ... -93.90000  48.61670                      0.785312\n",
      "25        26  NYMM5  1.037173  ... -95.37990  46.50920                      0.996068\n",
      "26        27  MLCM5  0.965256  ... -93.66170  45.75330                      0.917534\n",
      "27        28  EMBM5  0.882313  ... -92.22593  47.64305                      0.840053\n",
      "28        29  WNNM5  0.989164  ... -94.18730  43.76920                      1.000147\n",
      "29        30  WLDM5  1.005712  ... -92.74890  45.52310                      0.961556\n",
      "30        31  GLDM5  0.947001  ... -94.22070  44.55650                      1.001824\n",
      "31        32  WASM5  1.002005  ... -93.52640  44.07070                      0.995129\n",
      "\n",
      "[32 rows x 15 columns]\n"
     ]
    }
   ],
   "source": [
    "# Thne we iterate over each data frame in dfs list and merge with df_original\n",
    "for df in dfs:\n",
    "    # Perform the merge based on the OBJECTID column\n",
    "    df_ET = pd.merge(df_ET, df, on='OBJECTID', how='left')\n",
    "\n",
    "# Check the result\n",
    "print(df_ET)"
   ]
  },
  {
   "cell_type": "code",
   "execution_count": 79,
   "metadata": {},
   "outputs": [
    {
     "name": "stdout",
     "output_type": "stream",
     "text": [
      "IDW:\n",
      "RMSE: 0.00058134634\n",
      "MAE: 0.00028793328\n",
      "R-squared: 0.9999721332242189\n",
      "------------------------\n",
      "Kriging:\n",
      "RMSE: 0.059642993\n",
      "MAE: 0.04458194\n",
      "R-squared: 0.706684023141861\n",
      "------------------------\n",
      "Universal Kriging:\n",
      "RMSE: 0.059642993\n",
      "MAE: 0.04458194\n",
      "R-squared: 0.706684023141861\n"
     ]
    }
   ],
   "source": [
    "# Let's calculate RMSE, MAE, and R-squared for each method\n",
    "\n",
    "# Extract relevant columns\n",
    "observed = df_ET['ET']\n",
    "idw_predicted = df_ET['IDW_ETPoints_Band_1']\n",
    "kriging_predicted = df_ET['Kriging_ETPoints_Band_1']\n",
    "univ_kriging_predicted = df_ET['Univ_Kriging_ETPoints_Band_1']\n",
    "\n",
    "# Calculate RMSE, MAE, and R-squared for IDW\n",
    "idw_rmse = np.sqrt(((observed - idw_predicted) ** 2).mean())\n",
    "idw_mae = np.abs(observed - idw_predicted).mean()\n",
    "idw_r2 = 1 - (((observed - idw_predicted) ** 2).sum() / ((observed - observed.mean()) ** 2).sum())\n",
    "\n",
    "# Calculate RMSE, MAE, and R-squared for Kriging\n",
    "kriging_rmse = np.sqrt(((observed - kriging_predicted) ** 2).mean())\n",
    "kriging_mae = np.abs(observed - kriging_predicted).mean()\n",
    "kriging_r2 = 1 - (((observed - kriging_predicted) ** 2).sum() / ((observed - observed.mean()) ** 2).sum())\n",
    "\n",
    "# Calculate RMSE, MAE, and R-squared for Universal Kriging\n",
    "univ_kriging_rmse = np.sqrt(((observed - univ_kriging_predicted) ** 2).mean())\n",
    "univ_kriging_mae = np.abs(observed - univ_kriging_predicted).mean()\n",
    "univ_kriging_r2 = 1 - (((observed - univ_kriging_predicted) ** 2).sum() / ((observed - observed.mean()) ** 2).sum())\n",
    "\n",
    "# Print the results\n",
    "print(\"IDW:\")\n",
    "print(\"RMSE:\", idw_rmse)\n",
    "print(\"MAE:\", idw_mae)\n",
    "print(\"R-squared:\", idw_r2)\n",
    "print(\"------------------------\")\n",
    "print(\"Kriging:\")\n",
    "print(\"RMSE:\", kriging_rmse)\n",
    "print(\"MAE:\", kriging_mae)\n",
    "print(\"R-squared:\", kriging_r2)\n",
    "print(\"------------------------\")\n",
    "print(\"Universal Kriging:\")\n",
    "print(\"RMSE:\", univ_kriging_rmse)\n",
    "print(\"MAE:\", univ_kriging_mae)\n",
    "print(\"R-squared:\", univ_kriging_r2)\n"
   ]
  },
  {
   "cell_type": "code",
   "execution_count": null,
   "metadata": {},
   "outputs": [],
   "source": [
    "# Exploratory Interpolation\n",
    "arcpy.ga.ExploratoryInterpolation(\n",
    "    in_features=\"Points\",\n",
    "    value_field=\"ET\",\n",
    "    out_cv_table=r\"C:\\Users\\conno\\OneDrive\\Documents\\ArcGIS\\Projects\\GIS 5572 Final\\GIS 5572 Final.gdb\\ExploratoryInterpolation1\",\n",
    "    out_geostat_layer=None,\n",
    "    interp_methods=\"ORDINARY_KRIGING;UNIVERSAL_KRIGING;IDW\",\n",
    "    comparison_method=\"SINGLE\",\n",
    "    criterion=\"ACCURACY\",\n",
    "    criteria_hierarchy=\"ACCURACY PERCENT #\",\n",
    "    weighted_criteria=\"ACCURACY 1\",\n",
    "    exclusion_criteria=None\n",
    ")\n"
   ]
  },
  {
   "cell_type": "code",
   "execution_count": null,
   "metadata": {},
   "outputs": [],
   "source": [
    "#This performs the resampling of our chosen tif to reduce the number of points needed\n",
    "arcpy.management.Resample(\n",
    "    in_raster=r\"Idw_ETPoints.tif\",\n",
    "    out_raster=r\"Idw_ET_Resample\",\n",
    "    cell_size=\"0.2 0.2\",\n",
    "    resampling_type=\"NEAREST\"\n",
    ")"
   ]
  },
  {
   "cell_type": "code",
   "execution_count": 21,
   "metadata": {},
   "outputs": [
    {
     "data": {
      "text/html": [
       "<div class='gpresult'><h2>Messages</h2><div id='messages' data-messages='[\"Start Time: Monday, May 6, 2024 1:18:25 AM\",\"Succeeded at Monday, May 6, 2024 1:18:37 AM (Elapsed Time: 12.59 seconds)\"]' data-show='true'><div id = 'default' /></div></div>"
      ],
      "text/plain": [
       "<Result 'C:\\\\Users\\\\conno\\\\OneDrive\\\\Documents\\\\ArcGIS\\\\Projects\\\\GIS 5572 Final\\\\GIS 5572 Final.gdb\\\\Univ_Kriging_ET_Point'>"
      ]
     },
     "execution_count": 21,
     "metadata": {},
     "output_type": "execute_result"
    }
   ],
   "source": [
    "#This converts the raster to points\n",
    "arcpy.conversion.RasterToPoint(\n",
    "    in_raster=r\"Idw_ET_Resample\",\n",
    "    out_point_features=r\"Idw_ET_Point\",\n",
    "    raster_field=\"value\"\n",
    ")"
   ]
  },
  {
   "cell_type": "code",
   "execution_count": 25,
   "metadata": {},
   "outputs": [
    {
     "name": "stdout",
     "output_type": "stream",
     "text": [
      "Export complete\n"
     ]
    }
   ],
   "source": [
    "#This will export the IDW points to a PostGIS database\n",
    "arcpy.conversion.ExportFeatures(\n",
    "    in_features=r\"C:\\Users\\conno\\OneDrive\\Documents\\ArcGIS\\Projects\\GIS 5572 Final\\GIS 5572 Final.gdb\\Idw_ET_Point\",\n",
    "    out_features=r\"C:\\Users\\conno\\OneDrive\\Documents\\ArcGIS\\Projects\\GIS 5572 Final\\PostgreSQL-34-final_project(postgres).sde\\final_project.postgres.et_data\"\n",
    ")\n",
    "print(\"Export complete\")"
   ]
  },
  {
   "cell_type": "code",
   "execution_count": null,
   "metadata": {},
   "outputs": [],
   "source": []
  },
  {
   "cell_type": "code",
   "execution_count": null,
   "metadata": {},
   "outputs": [],
   "source": []
  }
 ],
 "metadata": {
  "kernelspec": {
   "display_name": "ArcGISPro",
   "language": "Python",
   "name": "python3"
  },
  "language_info": {
   "file_extension": ".py",
   "name": "python",
   "version": "3"
  }
 },
 "nbformat": 4,
 "nbformat_minor": 2
}
