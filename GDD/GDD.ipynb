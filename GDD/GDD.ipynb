{
 "cells": [
  {
   "cell_type": "code",
   "execution_count": 21,
   "metadata": {},
   "outputs": [],
   "source": [
    "# Importing necessary libraries \n",
    "import pandas as pd\n",
    "import geopandas as gpd\n",
    "import psycopg2\n",
    "from shapely.geometry import Point, Polygon\n",
    "import pandas as pd\n",
    "from sqlalchemy import create_engine\n",
    "import random\n",
    "from math import sqrt"
   ]
  },
  {
   "cell_type": "code",
   "execution_count": 29,
   "metadata": {},
   "outputs": [
    {
     "name": "stdout",
     "output_type": "stream",
     "text": [
      "Null values found:\n",
      "Station             0\n",
      "Date                0\n",
      "Max Temp (F)      277\n",
      "Min Temp (F)      277\n",
      "Latitude            0\n",
      "Longitude           0\n",
      "GDD               277\n",
      "Cumulative_GDD    277\n",
      "dtype: int64\n"
     ]
    }
   ],
   "source": [
    "# QA\\QC check\n",
    "# Read the CSV file into a data frame\n",
    "csv_file_path = r\"C:\\Users\\conno\\OneDrive\\Documents\\ArcGIS\\Projects\\GIS 5572 Final\\rounded_gdd_data.csv\"\n",
    "df = pd.read_csv(csv_file_path)\n",
    "\n",
    "# Check for null values\n",
    "null_values = df.isnull().sum()\n",
    "if null_values.any():\n",
    "    print(\"Null values found:\")\n",
    "    print(null_values)\n",
    "else:\n",
    "    print(\"No null values found.\")\n"
   ]
  },
  {
   "cell_type": "code",
   "execution_count": 30,
   "metadata": {},
   "outputs": [
    {
     "name": "stdout",
     "output_type": "stream",
     "text": [
      "Data falls within Minnesota boundary.\n"
     ]
    }
   ],
   "source": [
    "# Define Minnesota boundary box\n",
    "minnesota_boundary = Polygon([( -97.5, 43.0), (-89.0, 43.0), (-89.0, 49.5), (-97.5, 49.5)])\n",
    "\n",
    "# Filter data falling within Minnesota boundary\n",
    "df['Coordinates'] = list(zip(df.Longitude, df.Latitude))\n",
    "df['Coordinates'] = df['Coordinates'].apply(Point)\n",
    "gdf = gpd.GeoDataFrame(df, geometry='Coordinates')\n",
    "\n",
    "within_minnesota = gdf[gdf.geometry.within(minnesota_boundary)]\n",
    "if len(within_minnesota) == 0:\n",
    "    print(\"No data falls within Minnesota boundary.\")\n",
    "else:\n",
    "    print(\"Data falls within Minnesota boundary.\")"
   ]
  },
  {
   "cell_type": "code",
   "execution_count": 31,
   "metadata": {},
   "outputs": [
    {
     "name": "stdout",
     "output_type": "stream",
     "text": [
      "                                           Station  ...                       Coordinates\n",
      "0                      Twin Lakes I-35 Mile Post 1  ...   POINT (-93.35405731 43.5083313)\n",
      "1                     Silver Lake TH 7 Mile Post 1  ...          POINT (-94.1191 44.9068)\n",
      "2                 Little Chicago I-35 Mile Post 70  ...  POINT (-93.29242706 44.47850037)\n",
      "3                     Rush City I-35 Mile Post 157  ...  POINT (-92.99275208 45.64292145)\n",
      "4                      Rutledge I-35 Mile Post 198  ...  POINT (-92.83856201 46.21257019)\n",
      "...                                            ...  ...                               ...\n",
      "4855  U.S.2 - Solway - MP 99.7         MN US MNDOT  ...   POINT (-95.16248322 47.5232811)\n",
      "4856  T.H.1 - Warren - MP 11.5         MN US MNDOT  ...   POINT (-96.8911438 48.19535065)\n",
      "4857  T.H.11 - Karlstad - MP 37.7      MN US MNDOT  ...  POINT (-96.38069916 48.64707947)\n",
      "4858  T.H.371 - Nisswa - MP 46.2       MN US MNDOT  ...  POINT (-94.29614258 46.52462006)\n",
      "4859  U.S.53 - Piedmont Ave - MP 2.7   MN US MNDOT  ...  POINT (-92.13751984 46.77138138)\n",
      "\n",
      "[4860 rows x 9 columns]\n"
     ]
    }
   ],
   "source": [
    "# Convert 'Date' column to datetime format\n",
    "df['Date'] = pd.to_datetime(df['Date'], format='%d-%m-%Y')\n",
    "\n",
    "# Convert the datetime format to the desired format\n",
    "df['Date'] = df['Date'].dt.strftime('%Y-%m-%d')\n",
    "\n",
    "# Print the data frame\n",
    "print(df)"
   ]
  },
  {
   "cell_type": "code",
   "execution_count": 32,
   "metadata": {},
   "outputs": [
    {
     "name": "stdout",
     "output_type": "stream",
     "text": [
      "Type of 'Date' column after conversion: datetime64[ns]\n"
     ]
    }
   ],
   "source": [
    "#This converts and checks the format of the Date column\n",
    "df['Date'] = pd.to_datetime(df['Date'])\n",
    "\n",
    "# Check the type of the \"Date\" column after conversion\n",
    "date_column_type = df['Date'].dtype\n",
    "\n",
    "print(\"Type of 'Date' column after conversion:\", date_column_type)"
   ]
  },
  {
   "cell_type": "code",
   "execution_count": 34,
   "metadata": {},
   "outputs": [
    {
     "name": "stdout",
     "output_type": "stream",
     "text": [
      "Enter a date (YYYY-MM-DD format): 2023-09-09\n",
      "                                           Station  ...                       Coordinates\n",
      "1296                   Twin Lakes I-35 Mile Post 1  ...   POINT (-93.35405731 43.5083313)\n",
      "1297                  Silver Lake TH 7 Mile Post 1  ...          POINT (-94.1191 44.9068)\n",
      "1298              Little Chicago I-35 Mile Post 70  ...  POINT (-93.29242706 44.47850037)\n",
      "1299                  Rush City I-35 Mile Post 157  ...  POINT (-92.99275208 45.64292145)\n",
      "1300                   Rutledge I-35 Mile Post 198  ...  POINT (-92.83856201 46.21257019)\n",
      "...                                            ...  ...                               ...\n",
      "1453  U.S.2 - Solway - MP 99.7         MN US MNDOT  ...   POINT (-95.16248322 47.5232811)\n",
      "1454  T.H.1 - Warren - MP 11.5         MN US MNDOT  ...   POINT (-96.8911438 48.19535065)\n",
      "1455  T.H.11 - Karlstad - MP 37.7      MN US MNDOT  ...  POINT (-96.38069916 48.64707947)\n",
      "1456  T.H.371 - Nisswa - MP 46.2       MN US MNDOT  ...  POINT (-94.29614258 46.52462006)\n",
      "1457  U.S.53 - Piedmont Ave - MP 2.7   MN US MNDOT  ...  POINT (-92.13751984 46.77138138)\n",
      "\n",
      "[162 rows x 9 columns]\n"
     ]
    }
   ],
   "source": [
    "# Ask user for input date\n",
    "input_date = input(\"Enter a date (YYYY-MM-DD format): \")\n",
    "\n",
    "# Convert input string to datetime object\n",
    "input_date = pd.to_datetime(input_date)\n",
    "\n",
    "# Filter DataFrame based on the input date\n",
    "df = df[df['Date'] == input_date]\n",
    "\n",
    "# Display the filtered DataFrame\n",
    "print(df)"
   ]
  },
  {
   "cell_type": "code",
   "execution_count": 35,
   "metadata": {},
   "outputs": [
    {
     "name": "stdout",
     "output_type": "stream",
     "text": [
      "Feature class 'GDDPoints' created successfully.\n"
     ]
    }
   ],
   "source": [
    "#Ceate a GDD point fetaure class\n",
    "# Start by defining the output feature class name\n",
    "output_fc = 'GDDPoints'\n",
    "\n",
    "# Create a new feature class\n",
    "arcpy.management.CreateFeatureclass(\n",
    "    arcpy.env.workspace,\n",
    "    output_fc,\n",
    "    'POINT',\n",
    "    spatial_reference=arcpy.SpatialReference(4326)  # WGS84 Geographic Coordinate System\n",
    ")\n",
    "\n",
    "# Add fields to store the necessary data, ensuring correct data types\n",
    "arcpy.management.AddField(output_fc, 'Station', 'TEXT')\n",
    "arcpy.management.AddField(output_fc, 'Date', 'DATE')\n",
    "arcpy.management.AddField(output_fc, 'MaxTemp', 'FLOAT')\n",
    "arcpy.management.AddField(output_fc, 'MinTemp', 'FLOAT')\n",
    "arcpy.management.AddField(output_fc, 'Latitude', 'DOUBLE')\n",
    "arcpy.management.AddField(output_fc, 'Longitude', 'DOUBLE')\n",
    "arcpy.management.AddField(output_fc, 'GDD', 'FLOAT')\n",
    "arcpy.management.AddField(output_fc, 'Cumulative_GDD', 'FLOAT')\n",
    "\n",
    "# Open an insert cursor\n",
    "with arcpy.da.InsertCursor(output_fc, ['SHAPE@XY', 'Station', 'Date', 'MaxTemp', 'MinTemp', 'Latitude', 'Longitude', 'GDD', 'Cumulative_GDD']) as cursor:\n",
    "    # Iterate over each row in the DataFrame\n",
    "    for index, row in df.iterrows():\n",
    "        # Extract necessary values\n",
    "        station = row['Station']\n",
    "        date = row['Date']\n",
    "        max_temp = row['Max Temp (F)']\n",
    "        min_temp = row['Min Temp (F)']\n",
    "        lat = row['Latitude']\n",
    "        lon = row['Longitude']\n",
    "        gdd = row['GDD']\n",
    "        cumulative_gdd = row['Cumulative_GDD']\n",
    "        \n",
    "        # Create a point geometry\n",
    "        point = arcpy.Point(lon, lat)\n",
    "        point_geometry = arcpy.PointGeometry(point)\n",
    "        \n",
    "        # Insert the point feature with the necessary values\n",
    "        cursor.insertRow([point_geometry, station, date, max_temp, min_temp, lat, lon, gdd, cumulative_gdd])\n",
    "\n",
    "print(f\"Feature class '{output_fc}' created successfully.\")"
   ]
  },
  {
   "cell_type": "code",
   "execution_count": 36,
   "metadata": {},
   "outputs": [
    {
     "name": "stdout",
     "output_type": "stream",
     "text": [
      "Randomly selected 32 features and created a new feature layer: Random_Selected_GDD_Points\n",
      "Saved the selected features to a new feature class: Random_Selected_GDD_Points\n"
     ]
    }
   ],
   "source": [
    "#Create a subset of this data and remove it from the feature layer\n",
    "input_feature_layer = \"GDDPoints\"\n",
    "\n",
    "# Save it as a separate feature layer\n",
    "output_feature_layer = \"Random_Selected_GDD_Points\"\n",
    "output_feature_class = \"Random_Selected_GDD_Points\"\n",
    "\n",
    "# Get the total count of features in the input feature layer\n",
    "total_features_count = int(arcpy.GetCount_management(input_feature_layer).getOutput(0))\n",
    "\n",
    "# Generate a list of 32 random indices\n",
    "random_indices = random.sample(range(1, total_features_count + 1), 32)\n",
    "\n",
    "#Use a SQL expression to select the randomly chosen features\n",
    "sql_expression = \"OBJECTID IN ({})\".format(','.join(map(str, random_indices)))\n",
    "\n",
    "# Create a new feature layer with the randomly selected features\n",
    "arcpy.MakeFeatureLayer_management(input_feature_layer, output_feature_layer, sql_expression)\n",
    "\n",
    "print(\"Randomly selected 32 features and created a new feature layer:\", output_feature_layer)\n",
    "\n",
    "# Save the selected features to a new feature class\n",
    "arcpy.CopyFeatures_management(output_feature_layer, output_feature_class)\n",
    "print(\"Saved the selected features to a new feature class:\", output_feature_class)\n"
   ]
  },
  {
   "cell_type": "code",
   "execution_count": 37,
   "metadata": {},
   "outputs": [
    {
     "data": {
      "text/html": [
       "<div class='gpresult'><h2>Messages</h2><div id='messages' data-messages='[\"Start Time: Monday, May 6, 2024 12:30:10 PM\",\"Succeeded at Monday, May 6, 2024 12:30:14 PM (Elapsed Time: 3.29 seconds)\"]' data-show='true'><div id = 'default' /></div></div>"
      ],
      "text/plain": [
       "<Result ''>"
      ]
     },
     "execution_count": 37,
     "metadata": {},
     "output_type": "execute_result"
    }
   ],
   "source": [
    "#Interpolation Analysis\n",
    "# IDW\n",
    "arcpy.ga.IDW(\n",
    "    in_features=\"GDDPoints\",\n",
    "    z_field=\"GDD\",\n",
    "    out_ga_layer=None,\n",
    "    out_raster=r\"C:\\Users\\conno\\OneDrive\\Documents\\ArcGIS\\Projects\\GIS 5572 Final\\GIS 5572 Final.gdb\\GDD_IDW\",\n",
    "    cell_size=0.0218500824,\n",
    "    power=2,\n",
    "    search_neighborhood=\"NBRTYPE=Standard S_MAJOR=2.32298810990939 S_MINOR=2.32298810990939 ANGLE=0 NBR_MAX=15 NBR_MIN=10 SECTOR_TYPE=ONE_SECTOR\",\n",
    "    weight_field=None\n",
    ")"
   ]
  },
  {
   "cell_type": "code",
   "execution_count": 38,
   "metadata": {},
   "outputs": [],
   "source": [
    "# Ordinary kriging\n",
    "with arcpy.EnvManager(scratchWorkspace=r\"C:\\Users\\conno\\OneDrive\\Documents\\ArcGIS\\Projects\\GIS 5572 Final\\GIS 5572 Final.gdb\"):\n",
    "    out_surface_raster = arcpy.sa.Kriging(\n",
    "        in_point_features=\"GDDPoints\",\n",
    "        z_field=\"GDD\",\n",
    "        kriging_model=\"Spherical # # # #\",\n",
    "        cell_size=0.0218500824,\n",
    "        search_radius=\"VARIABLE 12\",\n",
    "        out_variance_prediction_raster=None\n",
    "    )\n",
    "    out_surface_raster.save(r\"C:\\Users\\conno\\OneDrive\\Documents\\ArcGIS\\Projects\\GIS 5572 Final\\GIS 5572 Final.gdb\\Kriging\") \n"
   ]
  },
  {
   "cell_type": "code",
   "execution_count": 39,
   "metadata": {},
   "outputs": [],
   "source": [
    "# Universal Kriging\n",
    "with arcpy.EnvManager(scratchWorkspace=r\"C:\\Users\\conno\\OneDrive\\Documents\\ArcGIS\\Projects\\GIS 5572 Final\\GIS 5572 Final.gdb\"):\n",
    "    out_surface_raster = arcpy.sa.Kriging(\n",
    "        in_point_features=\"GDDPoints\",\n",
    "        z_field=\"GDD\",\n",
    "        kriging_model=\"LinearDrift 0.021850 # # #\",\n",
    "        cell_size=0.0218500824,\n",
    "        search_radius=\"VARIABLE 12\",\n",
    "        out_variance_prediction_raster=None\n",
    "    )\n",
    "    out_surface_raster.save(r\"C:\\Users\\conno\\OneDrive\\Documents\\ArcGIS\\Projects\\GIS 5572 Final\\GIS 5572 Final.gdb\\Kriging_univ\")  \n",
    "\n"
   ]
  },
  {
   "cell_type": "code",
   "execution_count": 58,
   "metadata": {},
   "outputs": [
    {
     "name": "stdout",
     "output_type": "stream",
     "text": [
      "Sampling complete\n"
     ]
    }
   ],
   "source": [
    "#To test the model, this samples the data\n",
    "arcpy.sa.Sample(\n",
    "    in_rasters=\"Kriging.tif\",\n",
    "    in_location_data=\"Random_Selected_GDD_Points\",\n",
    "    out_table=r\"Sample_Kriging_GDD\",\n",
    "    resampling_type=\"NEAREST\",\n",
    "    unique_id_field=\"OBJECTID\",\n",
    "    process_as_multidimensional=\"CURRENT_SLICE\",\n",
    "    acquisition_definition=None,\n",
    "    statistics_type=\"\",\n",
    "    percentile_value=None,\n",
    "    buffer_distance=None,\n",
    "    layout=\"ROW_WISE\",\n",
    "    generate_feature_class=\"TABLE\"\n",
    ")\n",
    "print(\"Sampling complete\")"
   ]
  },
  {
   "cell_type": "code",
   "execution_count": 59,
   "metadata": {},
   "outputs": [
    {
     "name": "stdout",
     "output_type": "stream",
     "text": [
      "Sampling complete\n"
     ]
    }
   ],
   "source": [
    "arcpy.sa.Sample(\n",
    "    in_rasters=\"Kriging_univ.tif\",\n",
    "    in_location_data=\"Random_Selected_GDD_Points\",\n",
    "    out_table=r\"Sample_Kriging_Univ_GDD\",\n",
    "    resampling_type=\"NEAREST\",\n",
    "    unique_id_field=\"OBJECTID\",\n",
    "    process_as_multidimensional=\"CURRENT_SLICE\",\n",
    "    acquisition_definition=None,\n",
    "    statistics_type=\"\",\n",
    "    percentile_value=None,\n",
    "    buffer_distance=None,\n",
    "    layout=\"ROW_WISE\",\n",
    "    generate_feature_class=\"TABLE\"\n",
    ")\n",
    "print(\"Sampling complete\")"
   ]
  },
  {
   "cell_type": "code",
   "execution_count": 60,
   "metadata": {},
   "outputs": [
    {
     "name": "stdout",
     "output_type": "stream",
     "text": [
      "Sampling complete\n"
     ]
    }
   ],
   "source": [
    "arcpy.sa.Sample(\n",
    "    in_rasters=\"GDD_IDW.tif\",\n",
    "    in_location_data=\"Random_Selected_GDD_Points\",\n",
    "    out_table=r\"Sample_IDW_GDD\",\n",
    "    resampling_type=\"NEAREST\",\n",
    "    unique_id_field=\"OBJECTID\",\n",
    "    process_as_multidimensional=\"CURRENT_SLICE\",\n",
    "    acquisition_definition=None,\n",
    "    statistics_type=\"\",\n",
    "    percentile_value=None,\n",
    "    buffer_distance=None,\n",
    "    layout=\"ROW_WISE\",\n",
    "    generate_feature_class=\"TABLE\"\n",
    ")\n",
    "print(\"Sampling complete\")"
   ]
  },
  {
   "cell_type": "code",
   "execution_count": 62,
   "metadata": {},
   "outputs": [
    {
     "name": "stdout",
     "output_type": "stream",
     "text": [
      "    OBJECTID                                       Station        GDD\n",
      "0          1                             I-90 Mile Post 67  16.020000\n",
      "1          2                      Shooks MN-1 Mile Post 34  10.440000\n",
      "2          3                        Ely MN-1 Mile Post 275   5.130000\n",
      "3          4                     Waseca TH 14 Mile Post ??  17.100000\n",
      "4          5                  Red Wing US-61 Mile Post 101  17.370001\n",
      "5          6                      Effie MN-1 Mile Post 194   9.450000\n",
      "6          7                    Anthony MN-200 Mile Post 9  13.950000\n",
      "7          8                  Lake Park US-10 Mile Post 32  12.510000\n",
      "8          9                   Verndale US-10 Mile Post 94  12.510000\n",
      "9         10                      Rice US-10 Mile Post 162  11.250000\n",
      "10        11                    Brooks US-59 Mile Post 331  11.070000\n",
      "11        12                  Rochester US-63 Mile Post 32  16.290001\n",
      "12        13                            MN-71 Mile Post 43  16.740000\n",
      "13        14              Belle Plaine US-169 Mile Post 86  17.100000\n",
      "14        15                   Milaca US-169 Mile Post 200   9.270000\n",
      "15        16                      I-35 and Garfield Avenue  10.800000\n",
      "16        17           Lafayette Tunnel MN-61 Mile Post 32        NaN\n",
      "17        18                  Albert Lea I-35 Mile Post 30  18.629999\n",
      "18        19  T.H.210 - Tamarack - MP 186.3    MN US MNDOT  12.060000\n",
      "19        20  U.S.53 - Cook - MP 97.5          MN US MNDOT   8.370000\n",
      "20        21  T.H.65 - Buck Lake - MP 192.9    MN US MNDOT   7.290000\n",
      "21        22  T.H.2 - Lengby - MP 75.8         MN US MNDOT  11.610000\n",
      "22        23  T.H.200 - Longville - MP 144.0   MN US MNDOT  10.440000\n",
      "23        24  T.H.47 - Isle - MP 89.0          MN US MNDOT  11.520000\n",
      "24        25  U.S.12 - Holloway - MP 27.0      MN US MNDOT  13.860000\n",
      "25        26  T.H.9 - Murdock - MP 24.5        MN US MNDOT  11.790000\n",
      "26        27  U.S.218 - Lyle - MP 4            MN US MNDOT  17.639999\n",
      "27        28  I-90 - La Crescent - MP 276.4    MN US MNDOT  14.940000\n",
      "28        29  U.S.14 - Springfield - MP 80.7   MN US MNDOT  16.920000\n",
      "29        30  U.S.75 - Trosky - MP 30.3        MN US MNDOT  17.370001\n",
      "30        31  T.H.61 Schroeder - MP 79         MN US MNDOT   6.030000\n",
      "31        32  T.H.61 Grand Marais MP 110.8     MN US MNDOT   7.110000\n"
     ]
    }
   ],
   "source": [
    "# Create a dataframe based on our randomly selected features from earlier\n",
    "input_feature_class = \"Random_Selected_GDD_Points\"\n",
    "\n",
    "# Convert feature classes to a NumPy array\n",
    "fields = [\"OID@\",\"Station\", \"GDD\"]\n",
    "array = arcpy.da.FeatureClassToNumPyArray(input_feature_class, fields)\n",
    "\n",
    "# Convert the NumPy array to a dataframe\n",
    "df_GDD = pd.DataFrame(array)\n",
    "\n",
    "# Rename the OID@ field to ObjectID\n",
    "df_GDD.rename(columns={\"OID@\": \"OBJECTID\"}, inplace=True)\n",
    "\n",
    "# Print the DataFrame to check it\n",
    "print(df_GDD)"
   ]
  },
  {
   "cell_type": "code",
   "execution_count": 63,
   "metadata": {},
   "outputs": [
    {
     "name": "stdout",
     "output_type": "stream",
     "text": [
      "DataFrame 1 (Sample_IDW_GDD):\n",
      "    OBJECTID  Random_Selected_GDD_Points          X          Y  GDD_IDW_Band_1\n",
      "0          1                           1 -95.118538  43.638691       16.021612\n",
      "1          2                           2 -94.432426  47.874310       10.440683\n",
      "2          3                           3 -92.048111  47.854401        5.130960\n",
      "3          4                           4 -93.494500  44.059800       17.101177\n",
      "4          5                           5 -92.697792  44.601021       17.369537\n",
      "5          6                           6 -93.485184  47.840370        9.450415\n",
      "6          7                           7 -96.731651  47.295940       13.944532\n",
      "7          8                           8 -96.111443  46.877449       12.510365\n",
      "8          9                           9 -95.054390  46.413342       12.509303\n",
      "9         10                          10 -94.232841  45.766541       11.247498\n",
      "10        11                          11 -96.001022  47.769112       11.070024\n",
      "11        12                          12 -92.482300  43.902340       16.290007\n",
      "12        13                          13 -95.119949  44.083691       16.739855\n",
      "13        14                          14 -93.842697  44.572269       17.091997\n",
      "14        15                          15 -93.664078  45.875839        9.277964\n",
      "15        16                          16 -92.115000  46.771800       10.873105\n",
      "16        17                          17 -91.554031  47.094830       11.036300\n",
      "17        18                          18 -93.277618  43.920101       18.620150\n",
      "18        19                          19 -93.079750  46.644138       12.053501\n",
      "19        20                          20 -92.774292  47.891739        8.371705\n",
      "20        21                          21 -93.194283  47.612259        7.297972\n",
      "21        22                          22 -95.666130  47.531780       11.609887\n",
      "22        23                          23 -94.214500  47.052818       10.442446\n",
      "23        24                          24 -93.432457  46.118000       11.521249\n",
      "24        25                          25 -95.911491  45.282570       13.859717\n",
      "25        26                          26 -95.379021  45.325920       11.795193\n",
      "26        27                          27 -92.949409  43.558121       17.636927\n",
      "27        28                          28 -91.304230  43.857899       14.939987\n",
      "28        29                          29 -94.895126  44.268051       16.914747\n",
      "29        30                          30 -96.264976  43.922112       17.369009\n",
      "30        31                          31 -90.895897  47.544430        6.033088\n",
      "31        32                          32 -90.313858  47.758362        7.110233\n",
      "\n",
      "DataFrame 2 (Sample_Kriging_GDD):\n",
      "    OBJECTID  Random_Selected_GDD_Points          X          Y  Kriging_Band_1\n",
      "0          1                           1 -95.118538  43.638691       16.030088\n",
      "1          2                           2 -94.432426  47.874310       10.436698\n",
      "2          3                           3 -92.048111  47.854401        5.144437\n",
      "3          4                           4 -93.494500  44.059800       17.154865\n",
      "4          5                           5 -92.697792  44.601021       17.357597\n",
      "5          6                           6 -93.485184  47.840370        9.464225\n",
      "6          7                           7 -96.731651  47.295940       13.919033\n",
      "7          8                           8 -96.111443  46.877449       12.520408\n",
      "8          9                           9 -95.054390  46.413342       12.522402\n",
      "9         10                          10 -94.232841  45.766541       11.182485\n",
      "10        11                          11 -96.001022  47.769112       11.072336\n",
      "11        12                          12 -92.482300  43.902340       16.291342\n",
      "12        13                          13 -95.119949  44.083691       16.758394\n",
      "13        14                          14 -93.842697  44.572269       16.988449\n",
      "14        15                          15 -93.664078  45.875839        9.321622\n",
      "15        16                          16 -92.115000  46.771800       11.044481\n",
      "16        17                          17 -91.554031  47.094830       10.814584\n",
      "17        18                          18 -93.277618  43.920101       18.602093\n",
      "18        19                          19 -93.079750  46.644138       12.021975\n",
      "19        20                          20 -92.774292  47.891739        8.353849\n",
      "20        21                          21 -93.194283  47.612259        7.363392\n",
      "21        22                          22 -95.666130  47.531780       11.594991\n",
      "22        23                          23 -94.214500  47.052818       10.460220\n",
      "23        24                          24 -93.432457  46.118000       11.520092\n",
      "24        25                          25 -95.911491  45.282570       13.860294\n",
      "25        26                          26 -95.379021  45.325920       11.834034\n",
      "26        27                          27 -92.949409  43.558121       17.626024\n",
      "27        28                          28 -91.304230  43.857899       14.944654\n",
      "28        29                          29 -94.895126  44.268051       16.876467\n",
      "29        30                          30 -96.264976  43.922112       17.340647\n",
      "30        31                          31 -90.895897  47.544430        6.040399\n",
      "31        32                          32 -90.313858  47.758362        7.066493\n",
      "\n",
      "DataFrame 3 (Sample_Kriging_Univ_GDD):\n",
      "    OBJECTID  Random_Selected_GDD_Points  ...          Y  Kriging_univ_Band_1\n",
      "0          1                           1  ...  43.638691            16.658733\n",
      "1          2                           2  ...  47.874310            10.682419\n",
      "2          3                           3  ...  47.854401             7.769570\n",
      "3          4                           4  ...  44.059800            16.879910\n",
      "4          5                           5  ...  44.601021            16.768654\n",
      "5          6                           6  ...  47.840370             9.826967\n",
      "6          7                           7  ...  47.295940            13.209558\n",
      "7          8                           8  ...  46.877449            13.196920\n",
      "8          9                           9  ...  46.413342            12.097743\n",
      "9         10                          10  ...  45.766541            10.959951\n",
      "10        11                          11  ...  47.769112            11.592759\n",
      "11        12                          12  ...  43.902340            16.346098\n",
      "12        13                          13  ...  44.083691            16.435806\n",
      "13        14                          14  ...  44.572269            16.056522\n",
      "14        15                          15  ...  45.875839            11.492476\n",
      "15        16                          16  ...  46.771800            10.626513\n",
      "16        17                          17  ...  47.094830             8.982873\n",
      "17        18                          18  ...  43.920101            16.720816\n",
      "18        19                          19  ...  46.644138            11.522399\n",
      "19        20                          20  ...  47.891739             8.658504\n",
      "20        21                          21  ...  47.612259             9.467580\n",
      "21        22                          22  ...  47.531780            11.673985\n",
      "22        23                          23  ...  47.052818            11.285791\n",
      "23        24                          24  ...  46.118000            11.676134\n",
      "24        25                          25  ...  45.282570            13.326177\n",
      "25        26                          26  ...  45.325920            12.813043\n",
      "26        27                          27  ...  43.558121            16.906345\n",
      "27        28                          28  ...  43.857899            14.634062\n",
      "28        29                          29  ...  44.268051            15.909027\n",
      "29        30                          30  ...  43.922112            15.750094\n",
      "30        31                          31  ...  47.544430             7.345646\n",
      "31        32                          32  ...  47.758362             6.453733\n",
      "\n",
      "[32 rows x 5 columns]\n",
      "\n"
     ]
    }
   ],
   "source": [
    "# Define the table path\n",
    "table_paths = [\n",
    "    \"Sample_IDW_GDD\",\n",
    "    \"Sample_Kriging_GDD\",\n",
    "    \"Sample_Kriging_Univ_GDD\"\n",
    "]\n",
    "\n",
    "dfs = []\n",
    "for table_path in table_paths:\n",
    "    array = arcpy.da.TableToNumPyArray(table_path, \"*\")\n",
    "    df = pd.DataFrame(array)\n",
    "    dfs.append(df)\n",
    "\n",
    "# To check, let's print the dataframes\n",
    "for i, df in enumerate(dfs):\n",
    "    print(f\"DataFrame {i+1} ({table_paths[i]}):\\n{df}\\n\")"
   ]
  },
  {
   "cell_type": "code",
   "execution_count": null,
   "metadata": {},
   "outputs": [],
   "source": [
    "for df in dfs:\n",
    "    # Perform the merge based on the OBJECTID column\n",
    "    df_GDD = pd.merge(df_GDD, df, on='OBJECTID', how='left')\n"
   ]
  },
  {
   "cell_type": "code",
   "execution_count": 67,
   "metadata": {},
   "outputs": [
    {
     "name": "stdout",
     "output_type": "stream",
     "text": [
      "IDW:\n",
      "RMSE: 0.013680996\n",
      "MAE: 0.0048885653\n",
      "R-squared: 0.9999866212865527\n",
      "------------------------\n",
      "Kriging:\n",
      "RMSE: 0.05682798\n",
      "MAE: 0.033576965\n",
      "R-squared: 0.9997691640892299\n",
      "------------------------\n",
      "Universal Kriging:\n",
      "RMSE: 1.0311575\n",
      "MAE: 0.7854618\n",
      "R-squared: 0.923997312784195\n"
     ]
    }
   ],
   "source": [
    "# Quantitative Assesment\n",
    "# Let's calculate RMSE, MAE, and R-squared for each method\n",
    "\n",
    "# Extract relevant columns\n",
    "observed = df_GDD['GDD']\n",
    "idw_predicted = df_GDD['GDD_IDW_Band_1']\n",
    "kriging_predicted = df_GDD['Kriging_Band_1']\n",
    "kriging_univ_predicted = df_GDD['Kriging_univ_Band_1']\n",
    "\n",
    "# Calculate RMSE, MAE, and R-squared for IDW\n",
    "idw_rmse = np.sqrt(((observed - idw_predicted) ** 2).mean())\n",
    "idw_mae = np.abs(observed - idw_predicted).mean()\n",
    "idw_r2 = 1 - (((observed - idw_predicted) ** 2).sum() / ((observed - observed.mean()) ** 2).sum())\n",
    "\n",
    "# Calculate RMSE, MAE, and R-squared for Kriging\n",
    "kriging_rmse = np.sqrt(((observed - kriging_predicted) ** 2).mean())\n",
    "kriging_mae = np.abs(observed - kriging_predicted).mean()\n",
    "kriging_r2 = 1 - (((observed - kriging_predicted) ** 2).sum() / ((observed - observed.mean()) ** 2).sum())\n",
    "\n",
    "# Calculate RMSE, MAE, and R-squared for Universal Kriging\n",
    "kriging_univ_rmse = np.sqrt(((observed - kriging_univ_predicted) ** 2).mean())\n",
    "kriging_univ_mae = np.abs(observed - kriging_univ_predicted).mean()\n",
    "kriging_univ_r2 = 1 - (((observed - kriging_univ_predicted) ** 2).sum() / ((observed - observed.mean()) ** 2).sum())\n",
    "\n",
    "# Print the results\n",
    "print(\"IDW:\")\n",
    "print(\"RMSE:\", idw_rmse)\n",
    "print(\"MAE:\", idw_mae)\n",
    "print(\"R-squared:\", idw_r2)\n",
    "print(\"------------------------\")\n",
    "print(\"Kriging:\")\n",
    "print(\"RMSE:\", kriging_rmse)\n",
    "print(\"MAE:\", kriging_mae)\n",
    "print(\"R-squared:\", kriging_r2)\n",
    "print(\"------------------------\")\n",
    "print(\"Universal Kriging:\")\n",
    "print(\"RMSE:\", kriging_univ_rmse)\n",
    "print(\"MAE:\", kriging_univ_mae)\n",
    "print(\"R-squared:\", kriging_univ_r2)\n"
   ]
  },
  {
   "cell_type": "code",
   "execution_count": null,
   "metadata": {},
   "outputs": [],
   "source": [
    "#Exploratory interpolation\n",
    "arcpy.ga.ExploratoryInterpolation(\n",
    "    in_features=\"GDDPoints\",\n",
    "    value_field=\"GDD\",\n",
    "    out_cv_table=r\"C:\\Users\\Deepika\\OneDrive\\Documents\\ArcGIS\\Projects\\MyProject2\\MyProject2.gdb\\ExploratoryInterpolation1\",\n",
    "    out_geostat_layer=None,\n",
    "    interp_methods=\"SIMPLE_KRIGING;UNIVERSAL_KRIGING;IDW\",\n",
    "    comparison_method=\"SINGLE\",\n",
    "    criterion=\"ACCURACY\",\n",
    "    criteria_hierarchy=\"ACCURACY PERCENT #\",\n",
    "    weighted_criteria=\"ACCURACY 1\",\n",
    "    exclusion_criteria=None\n",
    ")\n"
   ]
  },
  {
   "cell_type": "code",
   "execution_count": 69,
   "metadata": {},
   "outputs": [
    {
     "data": {
      "text/html": [
       "<div class='gpresult'><h2>Messages</h2><div id='messages' data-messages='[\"Start Time: Saturday, May 4, 2024 5:08:28 PM\",\"Building Pyramids...\",\"Succeeded at Saturday, May 4, 2024 5:08:35 PM (Elapsed Time: 6.68 seconds)\"]' data-show='true'><div id = 'default' /></div></div>"
      ],
      "text/plain": [
       "<Result 'C:\\\\Users\\\\conno\\\\OneDrive\\\\Documents\\\\ArcGIS\\\\Projects\\\\GIS 5572 Final\\\\GIS 5572 Final.gdb\\\\Kriging_univ_resample'>"
      ]
     },
     "execution_count": 69,
     "metadata": {},
     "output_type": "execute_result"
    }
   ],
   "source": [
    "#Resample Kriging\n",
    "arcpy.management.Resample(\n",
    "    in_raster=r\"Kriging_univ\",\n",
    "    out_raster=r\"Kriging_univ_resample\",\n",
    "    cell_size=\"0.1 0.1\",\n",
    "    resampling_type=\"NEAREST\"\n",
    ")"
   ]
  },
  {
   "cell_type": "code",
   "execution_count": 70,
   "metadata": {},
   "outputs": [
    {
     "data": {
      "text/html": [
       "<div class='gpresult'><h2>Messages</h2><div id='messages' data-messages='[\"Start Time: Saturday, May 4, 2024 5:08:35 PM\",\"Succeeded at Saturday, May 4, 2024 5:08:50 PM (Elapsed Time: 14.68 seconds)\"]' data-show='true'><div id = 'default' /></div></div>"
      ],
      "text/plain": [
       "<Result 'C:\\\\Users\\\\conno\\\\OneDrive\\\\Documents\\\\ArcGIS\\\\Projects\\\\GIS 5572 Final\\\\GIS 5572 Final.gdb\\\\Kriging_univ_point'>"
      ]
     },
     "execution_count": 70,
     "metadata": {},
     "output_type": "execute_result"
    }
   ],
   "source": [
    "#Convert that resample into points\n",
    "arcpy.conversion.RasterToPoint(\n",
    "    in_raster=r\"Kriging_univ_resample\",\n",
    "    out_point_features=r\"Kriging_univ_point\",\n",
    "    raster_field=\"value\"\n",
    ")"
   ]
  },
  {
   "cell_type": "code",
   "execution_count": 1,
   "metadata": {},
   "outputs": [
    {
     "name": "stdout",
     "output_type": "stream",
     "text": [
      "Export complete\n"
     ]
    }
   ],
   "source": [
    "#Export the Kriging points to a PostGIS database\n",
    "arcpy.conversion.ExportFeatures(\n",
    "    in_features=r\"C:\\Users\\conno\\OneDrive\\Documents\\ArcGIS\\Projects\\GIS 5572 Final\\GIS 5572 Final.gdb\\Kriging_univ_point\",\n",
    "    out_features=r\"C:\\Users\\conno\\OneDrive\\Documents\\ArcGIS\\Projects\\GIS 5572 Final\\PostgreSQL-34-final_project(postgres).sde\\final_project.postgres.gdd_data\"\n",
    ")\n",
    "print(\"Export complete\")"
   ]
  }
 ],
 "metadata": {
  "kernelspec": {
   "display_name": "ArcGISPro",
   "language": "Python",
   "name": "python3"
  },
  "language_info": {
   "file_extension": ".py",
   "name": "python",
   "version": "3"
  }
 },
 "nbformat": 4,
 "nbformat_minor": 2
}
