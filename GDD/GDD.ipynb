{
 "cells": [
  {
   "cell_type": "code",
   "execution_count": 34,
   "metadata": {},
   "outputs": [],
   "source": [
    "# Importing necessary libraries \n",
    "import pandas as pd\n",
    "import geopandas as gpd\n",
    "import psycopg2\n",
    "from shapely.geometry import Point, Polygon\n",
    "import pandas as pd\n",
    "from sqlalchemy import create_engine"
   ]
  },
  {
   "cell_type": "code",
   "execution_count": 35,
   "metadata": {},
   "outputs": [
    {
     "name": "stdout",
     "output_type": "stream",
     "text": [
      "Null values found:\n",
      "Station             0\n",
      "Date                0\n",
      "Max Temp (F)      277\n",
      "Min Temp (F)      277\n",
      "Latitude            0\n",
      "Longitude           0\n",
      "GDD               277\n",
      "Cumulative_GDD    277\n",
      "dtype: int64\n"
     ]
    }
   ],
   "source": [
    "# QA\\QC check\n",
    "# Read the CSV file into a DataFrame\n",
    "csv_file_path = r\"C:\\Users\\conno\\OneDrive\\Documents\\ArcGIS\\Projects\\GIS 5572 Final\\rounded_gdd_data.csv\"\n",
    "df = pd.read_csv(csv_file_path)\n",
    "\n",
    "# Check for null values\n",
    "null_values = df.isnull().sum()\n",
    "if null_values.any():\n",
    "    print(\"Null values found:\")\n",
    "    print(null_values)\n",
    "else:\n",
    "    print(\"No null values found.\")\n"
   ]
  },
  {
   "cell_type": "code",
   "execution_count": 36,
   "metadata": {},
   "outputs": [
    {
     "name": "stdout",
     "output_type": "stream",
     "text": [
      "Data falls within Minnesota boundary.\n"
     ]
    }
   ],
   "source": [
    "# Define Minnesota boundary box\n",
    "minnesota_boundary = Polygon([( -97.5, 43.0), (-89.0, 43.0), (-89.0, 49.5), (-97.5, 49.5)])\n",
    "\n",
    "# Check if the data falls within the Minnesota boundary\n",
    "df['Coordinates'] = list(zip(df.Longitude, df.Latitude))\n",
    "df['Coordinates'] = df['Coordinates'].apply(Point)\n",
    "gdf = gpd.GeoDataFrame(df, geometry='Coordinates')\n",
    "\n",
    "within_minnesota = gdf[gdf.geometry.within(minnesota_boundary)]\n",
    "if len(within_minnesota) == 0:\n",
    "    print(\"No data falls within Minnesota boundary.\")\n",
    "else:\n",
    "    print(\"Data falls within Minnesota boundary.\")"
   ]
  },
  {
   "cell_type": "code",
   "execution_count": 60,
   "metadata": {},
   "outputs": [],
   "source": [
    "# Upload the values from the csv to the table I have created in the database\n",
    "\n",
    "# Read the CSV file into a DataFrame\n",
    "csv_file_path = r\"C:\\Users\\conno\\OneDrive\\Documents\\ArcGIS\\Projects\\GIS 5572 Final\\rounded_gdd_data.csv\"\n",
    "df = pd.read_csv(csv_file_path)\n"
   ]
  },
  {
   "cell_type": "code",
   "execution_count": 61,
   "metadata": {},
   "outputs": [
    {
     "name": "stdout",
     "output_type": "stream",
     "text": [
      "                                           Station  ... Cumulative_GDD\n",
      "0                      Twin Lakes I-35 Mile Post 1  ...      20.339997\n",
      "1                     Silver Lake TH 7 Mile Post 1  ...      43.469997\n",
      "2                 Little Chicago I-35 Mile Post 70  ...      65.879986\n",
      "3                     Rush City I-35 Mile Post 157  ...      88.739970\n",
      "4                      Rutledge I-35 Mile Post 198  ...     111.419971\n",
      "...                                            ...  ...            ...\n",
      "4855  U.S.2 - Solway - MP 99.7         MN US MNDOT  ...   67633.560970\n",
      "4856  T.H.1 - Warren - MP 11.5         MN US MNDOT  ...   67647.600970\n",
      "4857  T.H.11 - Karlstad - MP 37.7      MN US MNDOT  ...   67661.100970\n",
      "4858  T.H.371 - Nisswa - MP 46.2       MN US MNDOT  ...   67675.590960\n",
      "4859  U.S.53 - Piedmont Ave - MP 2.7   MN US MNDOT  ...   67687.920960\n",
      "\n",
      "[4860 rows x 8 columns]\n"
     ]
    }
   ],
   "source": [
    "df['Date'] = pd.to_datetime(df['Date'], format='%d-%m-%Y')\n",
    "\n",
    "# Convert the datetime format to the desired format\n",
    "df['Date'] = df['Date'].dt.strftime('%Y-%m-%d')\n",
    "\n",
    "# Now, the \"Date\" column is converted to dates in the format YYYY-MM-DD\n",
    "print(df)"
   ]
  },
  {
   "cell_type": "code",
   "execution_count": 64,
   "metadata": {},
   "outputs": [
    {
     "name": "stdout",
     "output_type": "stream",
     "text": [
      "Enter a date (YYYY-MM-DD format): 2023-09-01\n",
      "                                          Station  ... Cumulative_GDD\n",
      "0                     Twin Lakes I-35 Mile Post 1  ...      20.339997\n",
      "1                    Silver Lake TH 7 Mile Post 1  ...      43.469997\n",
      "2                Little Chicago I-35 Mile Post 70  ...      65.879986\n",
      "3                    Rush City I-35 Mile Post 157  ...      88.739970\n",
      "4                     Rutledge I-35 Mile Post 198  ...     111.419971\n",
      "..                                            ...  ...            ...\n",
      "157  U.S.2 - Solway - MP 99.7         MN US MNDOT  ...    3607.559940\n",
      "158  T.H.1 - Warren - MP 11.5         MN US MNDOT  ...    3631.319929\n",
      "159  T.H.11 - Karlstad - MP 37.7      MN US MNDOT  ...    3655.709929\n",
      "160  T.H.371 - Nisswa - MP 46.2       MN US MNDOT  ...    3679.739930\n",
      "161  U.S.53 - Piedmont Ave - MP 2.7   MN US MNDOT  ...    3703.139920\n",
      "\n",
      "[162 rows x 8 columns]\n"
     ]
    }
   ],
   "source": [
    "#Now let's choose a date to interpolate for\n",
    "input_date = input(\"Enter a date (YYYY-MM-DD format): \")\n",
    "\n",
    "# Convert input string to datetime object\n",
    "input_date = pd.to_datetime(input_date)\n",
    "\n",
    "# Filter DataFrame based on the input date\n",
    "df = df[df['Date'] == input_date]\n",
    "\n",
    "# Display the filtered DataFrame\n",
    "print(df)"
   ]
  },
  {
   "cell_type": "code",
   "execution_count": 65,
   "metadata": {},
   "outputs": [
    {
     "name": "stdout",
     "output_type": "stream",
     "text": [
      "Feature class 'GDDPoints' created successfully.\n"
     ]
    }
   ],
   "source": [
    "# Define the output feature class name\n",
    "output_fc = 'GDDPoints'\n",
    "\n",
    "# Create a new feature class\n",
    "arcpy.management.CreateFeatureclass(\n",
    "    arcpy.env.workspace,\n",
    "    output_fc,\n",
    "    'POINT',\n",
    "    spatial_reference=arcpy.SpatialReference(4326)  # WGS84 Geographic Coordinate System\n",
    ")\n",
    "\n",
    "# Add fields to store the necessary data, ensuring correct data types\n",
    "arcpy.management.AddField(output_fc, 'Station', 'TEXT')\n",
    "arcpy.management.AddField(output_fc, 'Date', 'DATE')\n",
    "arcpy.management.AddField(output_fc, 'MaxTemp', 'FLOAT')\n",
    "arcpy.management.AddField(output_fc, 'MinTemp', 'FLOAT')\n",
    "arcpy.management.AddField(output_fc, 'Latitude', 'DOUBLE')\n",
    "arcpy.management.AddField(output_fc, 'Longitude', 'DOUBLE')\n",
    "arcpy.management.AddField(output_fc, 'GDD', 'FLOAT')\n",
    "arcpy.management.AddField(output_fc, 'Cumulative_GDD', 'FLOAT')\n",
    "\n",
    "# Open an insert cursor\n",
    "with arcpy.da.InsertCursor(output_fc, ['SHAPE@XY', 'Station', 'Date', 'MaxTemp', 'MinTemp', 'Latitude', 'Longitude', 'GDD', 'Cumulative_GDD']) as cursor:\n",
    "    # Iterate over each row in the DataFrame\n",
    "    for index, row in df.iterrows():\n",
    "        # Extract necessary values\n",
    "        station = row['Station']\n",
    "        date = row['Date']\n",
    "        max_temp = row['Max Temp (F)']\n",
    "        min_temp = row['Min Temp (F)']\n",
    "        lat = row['Latitude']\n",
    "        lon = row['Longitude']\n",
    "        gdd = row['GDD']\n",
    "        cumulative_gdd = row['Cumulative_GDD']\n",
    "        \n",
    "        # Create a point geometry\n",
    "        point = arcpy.Point(lon, lat)\n",
    "        point_geometry = arcpy.PointGeometry(point)\n",
    "        \n",
    "        # Insert the point feature with the necessary values\n",
    "        cursor.insertRow([point_geometry, station, date, max_temp, min_temp, lat, lon, gdd, cumulative_gdd])\n",
    "\n",
    "print(f\"Feature class '{output_fc}' created successfully.\")"
   ]
  },
  {
   "cell_type": "code",
   "execution_count": 66,
   "metadata": {},
   "outputs": [
    {
     "data": {
      "text/html": [
       "<div class='gpresult'><h2>Messages</h2><div id='messages' data-messages='[\"Start Time: Saturday, May 4, 2024 5:07:30 PM\",\"Succeeded at Saturday, May 4, 2024 5:07:36 PM (Elapsed Time: 6.13 seconds)\"]' data-show='true'><div id = 'default' /></div></div>"
      ],
      "text/plain": [
       "<Result ''>"
      ]
     },
     "execution_count": 66,
     "metadata": {},
     "output_type": "execute_result"
    }
   ],
   "source": [
    "# IDW\n",
    "arcpy.ga.IDW(\n",
    "    in_features=\"GDDPoints\",\n",
    "    z_field=\"GDD\",#From Owen: changed this from MaxTemp\n",
    "    out_ga_layer=None,\n",
    "    out_raster=r\"C:\\Users\\conno\\OneDrive\\Documents\\ArcGIS\\Projects\\GIS 5572 Final\\GIS 5572 Final.gdb\\GDD_IDW\",\n",
    "    cell_size=0.0218500824,\n",
    "    power=2,\n",
    "    search_neighborhood=\"NBRTYPE=Standard S_MAJOR=2.32298810990939 S_MINOR=2.32298810990939 ANGLE=0 NBR_MAX=15 NBR_MIN=10 SECTOR_TYPE=ONE_SECTOR\",\n",
    "    weight_field=None\n",
    ")"
   ]
  },
  {
   "cell_type": "code",
   "execution_count": 67,
   "metadata": {},
   "outputs": [],
   "source": [
    "# ordinary kriging\n",
    "with arcpy.EnvManager(scratchWorkspace=r\"C:\\Users\\conno\\OneDrive\\Documents\\ArcGIS\\Projects\\GIS 5572 Final\\GIS 5572 Final.gdb\"):\n",
    "    out_surface_raster = arcpy.sa.Kriging(\n",
    "        in_point_features=\"GDDPoints\",\n",
    "        z_field=\"GDD\",#From Owen: changed this from MaxTemp\n",
    "        kriging_model=\"Spherical # # # #\",\n",
    "        cell_size=0.0218500824,\n",
    "        search_radius=\"VARIABLE 12\",\n",
    "        out_variance_prediction_raster=None\n",
    "    )\n",
    "    out_surface_raster.save(r\"C:\\Users\\conno\\OneDrive\\Documents\\ArcGIS\\Projects\\GIS 5572 Final\\GIS 5572 Final.gdb\\Kriging\") \n"
   ]
  },
  {
   "cell_type": "code",
   "execution_count": 68,
   "metadata": {},
   "outputs": [],
   "source": [
    "# Universal Kriging\n",
    "with arcpy.EnvManager(scratchWorkspace=r\"C:\\Users\\conno\\OneDrive\\Documents\\ArcGIS\\Projects\\GIS 5572 Final\\GIS 5572 Final.gdb\"):\n",
    "    out_surface_raster = arcpy.sa.Kriging(\n",
    "        in_point_features=\"GDDPoints\",\n",
    "        z_field=\"GDD\",#From Owen: changed this from MaxTemp\n",
    "        kriging_model=\"LinearDrift 0.021850 # # #\",\n",
    "        cell_size=0.0218500824,\n",
    "        search_radius=\"VARIABLE 12\",\n",
    "        out_variance_prediction_raster=None\n",
    "    )\n",
    "    out_surface_raster.save(r\"C:\\Users\\conno\\OneDrive\\Documents\\ArcGIS\\Projects\\GIS 5572 Final\\GIS 5572 Final.gdb\\Kriging_univ\")  \n",
    "\n"
   ]
  },
  {
   "cell_type": "code",
   "execution_count": null,
   "metadata": {},
   "outputs": [],
   "source": [
    "# QC\n",
    "# exploratory Interpolation\n",
    "arcpy.ga.ExploratoryInterpolation(\n",
    "    in_features=\"GDDPoints\",\n",
    "    value_field=\"GDD\",\n",
    "    out_cv_table=r\"C:\\Users\\conno\\OneDrive\\Documents\\ArcGIS\\Projects\\GIS 5572 Final\\PostgreSQL-34-final_project(postgres).sde\\ExploratoryInterpolation1\",\n",
    "    out_geostat_layer=None,\n",
    "    interp_methods=\"SIMPLE_KRIGING;UNIVERSAL_KRIGING;IDW\",\n",
    "    comparison_method=\"SINGLE\",\n",
    "    criterion=\"ACCURACY\",\n",
    "    criteria_hierarchy=\"ACCURACY PERCENT #\",\n",
    "    weighted_criteria=\"ACCURACY 1\",\n",
    "    exclusion_criteria=None\n",
    ")\n",
    "\n"
   ]
  },
  {
   "cell_type": "code",
   "execution_count": 69,
   "metadata": {},
   "outputs": [
    {
     "data": {
      "text/html": [
       "<div class='gpresult'><h2>Messages</h2><div id='messages' data-messages='[\"Start Time: Saturday, May 4, 2024 5:08:28 PM\",\"Building Pyramids...\",\"Succeeded at Saturday, May 4, 2024 5:08:35 PM (Elapsed Time: 6.68 seconds)\"]' data-show='true'><div id = 'default' /></div></div>"
      ],
      "text/plain": [
       "<Result 'C:\\\\Users\\\\conno\\\\OneDrive\\\\Documents\\\\ArcGIS\\\\Projects\\\\GIS 5572 Final\\\\GIS 5572 Final.gdb\\\\Kriging_univ_resample'>"
      ]
     },
     "execution_count": 69,
     "metadata": {},
     "output_type": "execute_result"
    }
   ],
   "source": [
    "#Ths resamples the raster\n",
    "arcpy.management.Resample(\n",
    "    in_raster=r\"Kriging_univ\",\n",
    "    out_raster=r\"Kriging_univ_resample\",\n",
    "    cell_size=\"0.1 0.1\",\n",
    "    resampling_type=\"NEAREST\"\n",
    ")"
   ]
  },
  {
   "cell_type": "code",
   "execution_count": 70,
   "metadata": {},
   "outputs": [
    {
     "data": {
      "text/html": [
       "<div class='gpresult'><h2>Messages</h2><div id='messages' data-messages='[\"Start Time: Saturday, May 4, 2024 5:08:35 PM\",\"Succeeded at Saturday, May 4, 2024 5:08:50 PM (Elapsed Time: 14.68 seconds)\"]' data-show='true'><div id = 'default' /></div></div>"
      ],
      "text/plain": [
       "<Result 'C:\\\\Users\\\\conno\\\\OneDrive\\\\Documents\\\\ArcGIS\\\\Projects\\\\GIS 5572 Final\\\\GIS 5572 Final.gdb\\\\Kriging_univ_point'>"
      ]
     },
     "execution_count": 70,
     "metadata": {},
     "output_type": "execute_result"
    }
   ],
   "source": [
    "# And this turns the raster to points\n",
    "arcpy.conversion.RasterToPoint(\n",
    "    in_raster=r\"Kriging_univ_resample\",\n",
    "    out_point_features=r\"Kriging_univ_point\",\n",
    "    raster_field=\"value\"\n",
    ")"
   ]
  },
  {
   "cell_type": "code",
   "execution_count": 1,
   "metadata": {},
   "outputs": [
    {
     "name": "stdout",
     "output_type": "stream",
     "text": [
      "Export complete\n"
     ]
    }
   ],
   "source": [
    "# This will export the Kriging points to a PostGIS database\n",
    "arcpy.conversion.ExportFeatures(\n",
    "    in_features=r\"C:\\Users\\conno\\OneDrive\\Documents\\ArcGIS\\Projects\\GIS 5572 Final\\GIS 5572 Final.gdb\\Kriging_univ_point\",\n",
    "    out_features=r\"C:\\Users\\conno\\OneDrive\\Documents\\ArcGIS\\Projects\\GIS 5572 Final\\PostgreSQL-34-final_project(postgres).sde\\final_project.postgres.gdd_data\"\n",
    ")\n",
    "print(\"Export complete\")"
   ]
  },
  {
   "cell_type": "code",
   "execution_count": null,
   "metadata": {},
   "outputs": [],
   "source": []
  }
 ],
 "metadata": {
  "kernelspec": {
   "display_name": "Python 3 (ipykernel)",
   "language": "python",
   "name": "python3"
  },
  "language_info": {
   "codemirror_mode": {
    "name": "ipython",
    "version": 3
   },
   "file_extension": ".py",
   "mimetype": "text/x-python",
   "name": "python",
   "nbconvert_exporter": "python",
   "pygments_lexer": "ipython3",
   "version": "3.10.9"
  }
 },
 "nbformat": 4,
 "nbformat_minor": 4
}
