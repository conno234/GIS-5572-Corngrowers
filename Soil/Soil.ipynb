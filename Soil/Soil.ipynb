{
 "cells": [
  {
   "cell_type": "code",
   "execution_count": 22,
   "metadata": {},
   "outputs": [],
   "source": [
    "#We first need to import our arcpy package\n",
    "import arcpy"
   ]
  },
  {
   "cell_type": "code",
   "execution_count": 27,
   "metadata": {},
   "outputs": [
    {
     "data": {
      "text/html": [
       "<div class='gpresult'><h2>Messages</h2><div id='messages' data-messages='[\"Start Time: Saturday, May 4, 2024 10:39:26 AM\",\"Building Pyramids...\",\"Succeeded at Saturday, May 4, 2024 10:39:29 AM (Elapsed Time: 3.09 seconds)\"]' data-show='true'><div id = 'default' /></div></div>"
      ],
      "text/plain": [
       "<Result 'C:\\\\Users\\\\conno\\\\OneDrive\\\\Documents\\\\ArcGIS\\\\Projects\\\\GIS 5572 Final\\\\GIS 5572 Final.gdb\\\\Soil_Resample'>"
      ]
     },
     "execution_count": 27,
     "metadata": {},
     "output_type": "execute_result"
    }
   ],
   "source": [
    "#We will then resample the downloaded soil_moisture tif\n",
    "arcpy.management.Resample(\n",
    "    in_raster=r\"soil_moisture.tif\",\n",
    "    out_raster=r\"Soil_Resample\",\n",
    "    cell_size=\"0.1 0.1\",\n",
    "    resampling_type=\"NEAREST\"\n",
    ")"
   ]
  },
  {
   "cell_type": "code",
   "execution_count": 28,
   "metadata": {},
   "outputs": [
    {
     "data": {
      "text/html": [
       "<div class='gpresult'><h2>Messages</h2><div id='messages' data-messages='[\"Start Time: Saturday, May 4, 2024 10:39:29 AM\",\"Succeeded at Saturday, May 4, 2024 10:39:40 AM (Elapsed Time: 10.71 seconds)\"]' data-show='true'><div id = 'default' /></div></div>"
      ],
      "text/plain": [
       "<Result 'C:\\\\Users\\\\conno\\\\OneDrive\\\\Documents\\\\ArcGIS\\\\Projects\\\\GIS 5572 Final\\\\GIS 5572 Final.gdb\\\\Soil_Point'>"
      ]
     },
     "execution_count": 28,
     "metadata": {},
     "output_type": "execute_result"
    }
   ],
   "source": [
    "#Then we will convert that resample raster to points\n",
    "arcpy.conversion.RasterToPoint(\n",
    "    in_raster=r\"Soil_Resample\",\n",
    "    out_point_features=r\"Soil_Point\",\n",
    "    raster_field=\"value\"\n",
    ")"
   ]
  },
  {
   "cell_type": "code",
   "execution_count": 29,
   "metadata": {},
   "outputs": [
    {
     "name": "stdout",
     "output_type": "stream",
     "text": [
      "Export complete\n"
     ]
    }
   ],
   "source": [
    "#Finally, this cell exports the soil points to the PostGIS database\n",
    "arcpy.conversion.ExportFeatures(\n",
    "    in_features=r\"Soil_Point\",\n",
    "    out_features=r\"PostgreSQL-34-final_project(postgres).sde\\final_project.postgres.soil_point\"\n",
    ")\n",
    "print(\"Export complete\")"
   ]
  },
  {
   "cell_type": "code",
   "execution_count": null,
   "metadata": {},
   "outputs": [],
   "source": []
  }
 ],
 "metadata": {
  "kernelspec": {
   "display_name": "ArcGISPro",
   "language": "Python",
   "name": "python3"
  },
  "language_info": {
   "file_extension": ".py",
   "name": "python",
   "version": "3"
  }
 },
 "nbformat": 4,
 "nbformat_minor": 2
}
